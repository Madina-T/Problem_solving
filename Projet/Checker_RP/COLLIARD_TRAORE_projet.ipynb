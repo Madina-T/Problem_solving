{
 "cells": [
  {
   "cell_type": "markdown",
   "metadata": {},
   "source": [
    "# Projet : Autour du Google Hash Code 2019 \"Photo slideshow\""
   ]
  },
  {
   "cell_type": "markdown",
   "metadata": {},
   "source": [
    "Binôme : Valentin COLLIARD et Madina TRAORE"
   ]
  },
  {
   "cell_type": "markdown",
   "metadata": {},
   "source": [
    "#### Modules et classes utilisés"
   ]
  },
  {
   "cell_type": "code",
   "execution_count": 1,
   "metadata": {
    "collapsed": true
   },
   "outputs": [],
   "source": [
    "import numpy as np\n",
    "import time\n",
    "import matplotlib.pyplot as plt\n",
    "from gurobipy import *"
   ]
  },
  {
   "cell_type": "code",
   "execution_count": 2,
   "metadata": {
    "collapsed": true
   },
   "outputs": [],
   "source": [
    "class Photo:\n",
    "    \"\"\"\n",
    "        Classe représentant une photo\n",
    "    \"\"\"\n",
    "    def __init__(self, index, orientation, tags):\n",
    "        self.index = index # indice de la photo au sein de l'instance\n",
    "        self.orientation = orientation # orientation de la photo : horizontale (\"H\") ou verticale (\"V\")\n",
    "        self.tags = tags # mots-clés associés à la photo\n",
    "    \n",
    "    # Les méthodes suivantes permettent simplement d'afficher tous les attributs d'une instance de la classe Photo\n",
    "    \n",
    "    def __str__(self):\n",
    "        return str(self.index)+\" \"+str(self.orientation)+\" \"+str(self.tags) \n",
    "\n",
    "    def __repr__(self):\n",
    "        return self.__str__()"
   ]
  },
  {
   "cell_type": "code",
   "execution_count": 3,
   "metadata": {
    "collapsed": true
   },
   "outputs": [],
   "source": [
    "class Instance:\n",
    "    \"\"\"\n",
    "        Classe représentant une instance de n photos\n",
    "    \"\"\"\n",
    "    def __init__(self, n, photosH, photosV):\n",
    "        self.n = n # nombre de photos\n",
    "        self.photosH = photosH # liste des photos horizontales de la présentation\n",
    "        self.photosV = photosV # liste des photos verticales de la présentation\n",
    "    \n",
    "    # Les méthodes suivantes permettent simplement d'afficher tous les attributs d'une instance de la classe Photo\n",
    "    \n",
    "    def __str__(self):\n",
    "        return \"Nombre de photos : \" + str(self.n)+\"\\nPhotos horizontales : \"+str(self.photosH)+\"\\nPhotos verticales : \"+str(self.photosV) \n",
    "\n",
    "    def __repr__(self):\n",
    "        return self.__str__()"
   ]
  },
  {
   "cell_type": "code",
   "execution_count": 4,
   "metadata": {
    "collapsed": true
   },
   "outputs": [],
   "source": [
    "class Vignette:\n",
    "    \"\"\"\n",
    "        Classe représentant une vignette (constituée d'une photo horizontale ou de 2 photos verticales)\n",
    "    \"\"\"\n",
    "    def __init__(self, photo1, photo2 = None):\n",
    "        self.photo1 = photo1\n",
    "        self.photo2 = photo2\n",
    "        if self.photo2 == None:\n",
    "            self.tags = self.photo1.tags\n",
    "        else:\n",
    "            self.tags = [tag for tag in photo1.tags]\n",
    "            self.tags += [tag for tag in photo2.tags if tag not in self.tags]\n",
    "    \n",
    "    # Les méthodes suivantes permettent simplement d'afficher tous les attributs d'une instance de la classe Photo\n",
    "    \n",
    "    def __str__(self):\n",
    "        if self.photo2 == None:\n",
    "            s = \"\"\n",
    "        else:\n",
    "            s = str(self.photo2)\n",
    "        return str(self.photo1)+\" \"+s\n",
    "    \n",
    "    def __repr__(self):\n",
    "        return self.__str__()"
   ]
  },
  {
   "cell_type": "code",
   "execution_count": 160,
   "metadata": {
    "collapsed": true
   },
   "outputs": [],
   "source": [
    "class Presentation:\n",
    "    \"\"\"\n",
    "        Classe représentant une présentation\n",
    "    \"\"\"\n",
    "    def __init__(self, vignettes):\n",
    "        self.vignettes = vignettes # liste de vignettes de la présentation\n",
    "        self.n = len(self.vignettes)\n",
    "        \n",
    "    # Les méthodes suivantes permettent simplement d'afficher tous les attributs d'une instance de la classe Photo\n",
    "    \n",
    "    def __str__(self):\n",
    "        l = [self.vignettes[i].__str__() for i in range(len(self.vignettes))]\n",
    "        return \"\\n\".join(l)\n",
    "\n",
    "    def __repr__(self):\n",
    "        return self.__str__()"
   ]
  },
  {
   "cell_type": "code",
   "execution_count": 391,
   "metadata": {
    "collapsed": true
   },
   "outputs": [],
   "source": [
    "class Transition:\n",
    "\n",
    "    def __init__(self, vignette1, vignette2, score):\n",
    "        self.score = score\n",
    "        self.vignette1 = vignette1\n",
    "        self.vignette2 = vignette2\n",
    "\n",
    "    def __str__(self):\n",
    "        return str(self.vignette1)+\" \"+str(self.vignette2)+\" \"+str(self.score)\n",
    "    \n",
    "    def __repr__(self):\n",
    "        return self.__str__()"
   ]
  },
  {
   "cell_type": "markdown",
   "metadata": {},
   "source": [
    "## Entrées-Sorties"
   ]
  },
  {
   "cell_type": "code",
   "execution_count": 6,
   "metadata": {
    "collapsed": true
   },
   "outputs": [],
   "source": [
    "def lire(nom_fichier, p):\n",
    "    \"\"\"\n",
    "        Fonction permettant de lire p% d'une instance de n photos donnée\n",
    "    \"\"\"\n",
    "    fichier = open(nom_fichier,'r')\n",
    "    n = int(fichier.readline().strip(\"\\n\"))\n",
    "    nbPhotos = int(np.floor(p*n/100)) # nombre de photos dans l'instance réduite\n",
    "    photosH = [] # photos horizontales\n",
    "    photosV = [] # photos verticales\n",
    "    for i in range(nbPhotos):\n",
    "        ligne = fichier.readline().strip(\"\\n\")\n",
    "        ligne = ligne.split(\" \")\n",
    "        if ligne[0] == \"H\":\n",
    "            photosH.append(Photo(i,ligne[0],ligne[2:]))\n",
    "        elif ligne[0] == \"V\":\n",
    "            photosV.append(Photo(i,ligne[0],ligne[2:]))\n",
    "    fichier.close()\n",
    "    instance = Instance(nbPhotos,photosH,photosV)\n",
    "    return instance"
   ]
  },
  {
   "cell_type": "code",
   "execution_count": 7,
   "metadata": {
    "collapsed": true
   },
   "outputs": [],
   "source": [
    "def presentationHV(instance):\n",
    "    \"\"\"\n",
    "        Fonction permettant d'obtenir une présentation simple (photos horizontales puis photos verticales) d'une instance donnée\n",
    "        Remarque : S'il y a un nombre impair de photos verticales,l'une d'entre elles ne peut être mise dans la présentation\n",
    "    \"\"\"\n",
    "    vignettes = []\n",
    "    for photo in instance.photosH:\n",
    "        vignettes.append(Vignette(photo)) # on ajoute toutes les photos horizontales a la presentation\n",
    "    if len(instance.photosV)%2:\n",
    "        nbPhotosV = len(instance.photosV)\n",
    "    else:\n",
    "        nbPhotosV = len(instance.photosV) - 1\n",
    "    for i in range(0,nbPhotosV,2):\n",
    "        vignettes.append(Vignette(instance.photosV[i],instance.photosV[i+1]))\n",
    "    return Presentation(vignettes)"
   ]
  },
  {
   "cell_type": "code",
   "execution_count": 8,
   "metadata": {
    "collapsed": true
   },
   "outputs": [],
   "source": [
    "def ecrire(presentation, nom_fichier):\n",
    "    \"\"\"\n",
    "        Fonction permettant d'écrire une présentation (une solution) dans un fichier\n",
    "    \"\"\"\n",
    "    instance = open(nom_fichier+\".sol\",'w')\n",
    "    vignettes = presentation.vignettes\n",
    "    nb_vignettes = str(len(vignettes))\n",
    "    instance.write(nb_vignettes+\"\\n\")\n",
    "    for vignette in vignettes:\n",
    "        if vignette.photo2 == None:\n",
    "            instance.write(str(vignette.photo1.index)+\"\\n\")\n",
    "        else :\n",
    "            instance.write(str(vignette.photo1.index)+\" \"+str(vignette.photo2.index)+\"\\n\")\n",
    "    instance.close()"
   ]
  },
  {
   "cell_type": "code",
   "execution_count": 9,
   "metadata": {
    "collapsed": true
   },
   "outputs": [],
   "source": [
    "def score_t(S1, S2):\n",
    "    \"\"\"\n",
    "        Fonction permettant de calculer le score de la transition S1 --> S2\n",
    "    \"\"\"\n",
    "    nb_tags_S1_S2 = 0 # nombre de mots-clé communs entre S1 et S2\n",
    "    nb_tags_S1 = 0 # nombre de mots-clé apparaissant dans S1 mais pas dans S2\n",
    "    nb_tags_S2 = 0 # nombre de mots-clé apparaissant dans S2 mais pas dans S1\n",
    "    for tag in S1.tags:\n",
    "        if tag in S2.tags:\n",
    "            nb_tags_S1_S2 += 1\n",
    "        else:\n",
    "            nb_tags_S1 += 1\n",
    "    for tag in S2.tags:\n",
    "        if tag not in S1.tags:\n",
    "            nb_tags_S2 += 1\n",
    "    return min(nb_tags_S1_S2,nb_tags_S1,nb_tags_S2)\n",
    "\n",
    "def score_p(presentation):\n",
    "    \"\"\"\n",
    "        Fonction permettant de calculer le score de la presentation (solution) donnee\n",
    "    \"\"\"\n",
    "    s = 0\n",
    "    vignettes = presentation.vignettes\n",
    "    for i in range(len(vignettes) - 1):\n",
    "        S1 = vignettes[i] # vignette S_i\n",
    "        S2 = vignettes[i+1] # vignette S_i+1\n",
    "        s += score_t(S1,S2) \n",
    "    return s"
   ]
  },
  {
   "cell_type": "code",
   "execution_count": 10,
   "metadata": {},
   "outputs": [
    {
     "name": "stdout",
     "output_type": "stream",
     "text": [
      "Nombre de photos : 4\n",
      "Photos horizontales : [0 H ['cat', 'beach', 'sun'], 3 H ['garden', 'cat']]\n",
      "Photos verticales : [1 V ['selfie', 'smile'], 2 V ['garden', 'selfie']]\n"
     ]
    }
   ],
   "source": [
    "instance = lire(\"qualification_round_2019.in/a_example.txt\",100)\n",
    "print(instance)"
   ]
  },
  {
   "cell_type": "code",
   "execution_count": 11,
   "metadata": {},
   "outputs": [
    {
     "name": "stdout",
     "output_type": "stream",
     "text": [
      "0 H ['cat', 'beach', 'sun'] \n",
      "3 H ['garden', 'cat'] \n",
      "1 V ['selfie', 'smile'] 2 V ['garden', 'selfie']\n"
     ]
    }
   ],
   "source": [
    "presentation = presentationHV(instance)\n",
    "print(presentation)"
   ]
  },
  {
   "cell_type": "code",
   "execution_count": 12,
   "metadata": {},
   "outputs": [
    {
     "data": {
      "text/plain": [
       "2"
      ]
     },
     "execution_count": 12,
     "metadata": {},
     "output_type": "execute_result"
    }
   ],
   "source": [
    "ecrire(presentation,\"qualification_round_2019.in/a_example\")\n",
    "score_p(presentation)"
   ]
  },
  {
   "cell_type": "code",
   "execution_count": 13,
   "metadata": {},
   "outputs": [
    {
     "data": {
      "text/plain": [
       "12"
      ]
     },
     "execution_count": 13,
     "metadata": {},
     "output_type": "execute_result"
    }
   ],
   "source": [
    "instance = lire(\"qualification_round_2019.in/b_lovely_landscapes.txt\",100)\n",
    "presentation = presentationHV(instance)\n",
    "ecrire(presentation,\"qualification_round_2019.in/b_lovely_landscapes\")\n",
    "score_p(presentation)"
   ]
  },
  {
   "cell_type": "code",
   "execution_count": 14,
   "metadata": {},
   "outputs": [
    {
     "data": {
      "text/plain": [
       "152"
      ]
     },
     "execution_count": 14,
     "metadata": {},
     "output_type": "execute_result"
    }
   ],
   "source": [
    "instance = lire(\"qualification_round_2019.in/c_memorable_moments.txt\",100)\n",
    "presentation = presentationHV(instance)\n",
    "ecrire(presentation,\"qualification_round_2019.in/c_memorable_moments\")\n",
    "score_p(presentation)"
   ]
  },
  {
   "cell_type": "code",
   "execution_count": 15,
   "metadata": {},
   "outputs": [
    {
     "data": {
      "text/plain": [
       "190961"
      ]
     },
     "execution_count": 15,
     "metadata": {},
     "output_type": "execute_result"
    }
   ],
   "source": [
    "instance = lire(\"qualification_round_2019.in/d_pet_pictures.txt\",100)\n",
    "presentation = presentationHV(instance)\n",
    "ecrire(presentation,\"qualification_round_2019.in/d_pet_pictures\")\n",
    "score_p(presentation)"
   ]
  },
  {
   "cell_type": "code",
   "execution_count": 16,
   "metadata": {},
   "outputs": [
    {
     "data": {
      "text/plain": [
       "112468"
      ]
     },
     "execution_count": 16,
     "metadata": {},
     "output_type": "execute_result"
    }
   ],
   "source": [
    "instance = lire(\"qualification_round_2019.in/e_shiny_selfies.txt\",100)\n",
    "presentation = presentationHV(instance)\n",
    "ecrire(presentation,\"qualification_round_2019.in/e_shiny_selfies\")\n",
    "score_p(presentation)"
   ]
  },
  {
   "cell_type": "markdown",
   "metadata": {},
   "source": [
    "## Méthodes gloutonnes"
   ]
  },
  {
   "cell_type": "code",
   "execution_count": 17,
   "metadata": {
    "collapsed": true
   },
   "outputs": [],
   "source": [
    "def methodeGloutonne1(instance):\n",
    "    \"\"\"\n",
    "        Implémentation de la méthode gloutonne suivante :\n",
    "        - Commencer par une vignette contenant une photo H ou un couple de photos V choisies au hasard\n",
    "        - Ajouter itérativement après la vignette S_i une vignette S_i+1 constituée d'une photo H ou V (non sélectionnée jusqu'ici)\n",
    "          maximisant la transition. S'il s'agit d'une photo V, compléter ensuite la vignette en choisissant une photo V\n",
    "          maximisant la transition\n",
    "    \"\"\"\n",
    "    vignettes = []\n",
    "    photos = list(instance.photosH + instance.photosV)\n",
    "    photo1 = photos[np.random.randint(0,len(photos))]\n",
    "    if (photo1.orientation == \"H\"):\n",
    "        vignettes.append(Vignette(photo1,None))\n",
    "        photos.remove(photo1)\n",
    "    else:\n",
    "        photos.remove(photo1)\n",
    "        photo2 = photos[np.random.randint(0,len(photos))]\n",
    "        vignettes.append(Vignette(photo1,photo2))\n",
    "        photos.remove(photo2)\n",
    "        \n",
    "    V_cour = vignettes[0] # vignette courante (S_i)\n",
    "    while len(photos)>0:\n",
    "        best_photo1_suiv = None\n",
    "        max_score = 0\n",
    "        for photo in photos:\n",
    "            score = score_t(V_cour,photo)\n",
    "            if score >= max_score:\n",
    "                max_score = score\n",
    "                best_photo1_suiv = photo\n",
    "        if best_photo1_suiv.orientation == \"H\":\n",
    "            V_cour = Vignette(best_photo1_suiv,None)\n",
    "            vignettes.append(V_cour)\n",
    "            photos.remove(best_photo1_suiv)\n",
    "        else:\n",
    "            best_photo2_suiv = None\n",
    "            max_score = 0\n",
    "            for photo in [p for p in photos if p.orientation == \"V\" and p != best_photo1_suiv]:\n",
    "                score = score_t(V_cour,Vignette(best_photo1_suiv,photo))\n",
    "                if score >= max_score:\n",
    "                    max_score = score\n",
    "                    best_photo2_suiv = photo\n",
    "            if best_photo2_suiv != None:\n",
    "                V_cour = Vignette(best_photo1_suiv,best_photo2_suiv)\n",
    "                vignettes.append(V_cour)\n",
    "                photos.remove(best_photo1_suiv)\n",
    "                photos.remove(best_photo2_suiv)\n",
    "            else:\n",
    "                photos.remove(best_photo1_suiv)\n",
    "    return Presentation(vignettes)"
   ]
  },
  {
   "cell_type": "code",
   "execution_count": 410,
   "metadata": {},
   "outputs": [
    {
     "data": {
      "text/plain": [
       "57"
      ]
     },
     "execution_count": 410,
     "metadata": {},
     "output_type": "execute_result"
    }
   ],
   "source": [
    "instance = lire(\"qualification_round_2019.in/b_lovely_landscapes.txt\",1)\n",
    "presentation = methodeGloutonne1(instance)\n",
    "ecrire(presentation,\"sol/MethodeGloutonne1/b_lovely_landscapes\")\n",
    "score_p(presentation)"
   ]
  },
  {
   "cell_type": "code",
   "execution_count": 411,
   "metadata": {},
   "outputs": [
    {
     "data": {
      "text/plain": [
       "1767"
      ]
     },
     "execution_count": 411,
     "metadata": {},
     "output_type": "execute_result"
    }
   ],
   "source": [
    "instance = lire(\"qualification_round_2019.in/c_memorable_moments.txt\",100)\n",
    "presentation = methodeGloutonne1(instance)\n",
    "ecrire(presentation,\"sol/MethodeGloutonne1/c_memorable_moments\")\n",
    "score_p(presentation)"
   ]
  },
  {
   "cell_type": "code",
   "execution_count": 412,
   "metadata": {},
   "outputs": [
    {
     "data": {
      "text/plain": [
       "3701"
      ]
     },
     "execution_count": 412,
     "metadata": {},
     "output_type": "execute_result"
    }
   ],
   "source": [
    "instance = lire(\"qualification_round_2019.in/d_pet_pictures.txt\",1)\n",
    "presentation = methodeGloutonne1(instance)\n",
    "ecrire(presentation,\"sol/MethodeGloutonne1/d_pet_pictures\")\n",
    "score_p(presentation)"
   ]
  },
  {
   "cell_type": "code",
   "execution_count": 413,
   "metadata": {},
   "outputs": [
    {
     "data": {
      "text/plain": [
       "3884"
      ]
     },
     "execution_count": 413,
     "metadata": {},
     "output_type": "execute_result"
    }
   ],
   "source": [
    "instance = lire(\"qualification_round_2019.in/e_shiny_selfies.txt\",1)\n",
    "presentation = methodeGloutonne1(instance)\n",
    "ecrire(presentation,\"sol/MethodeGloutonne1/e_shiny_selfies\")\n",
    "score_p(presentation)"
   ]
  },
  {
   "cell_type": "markdown",
   "metadata": {},
   "source": [
    "On fait croître la taille d'une instance pour évaluer la méthode :"
   ]
  },
  {
   "cell_type": "code",
   "execution_count": 326,
   "metadata": {},
   "outputs": [
    {
     "name": "stdout",
     "output_type": "stream",
     "text": [
      "Taille : 800\n",
      "Temps : 4.1121860000002926 s\n",
      "Taille : 1600\n",
      "Temps : 16.76168300000063 s\n",
      "Taille : 2400\n",
      "Temps : 36.58805200000006 s\n",
      "Taille : 3200\n",
      "Temps : 64.06715799999984 s\n",
      "Taille : 4000\n",
      "Temps : 101.14819099999931 s\n",
      "Taille : 4800\n",
      "Temps : 145.81092499999977 s\n",
      "Taille : 5600\n",
      "Temps : 193.6695840000002 s\n",
      "Taille : 6400\n",
      "Temps : 255.18010199999935 s\n",
      "Taille : 7200\n",
      "Temps : 322.4162669999996 s\n"
     ]
    }
   ],
   "source": [
    "tailles = [0]\n",
    "temps = [0]\n",
    "for i in range(1,10):\n",
    "    instance = lire(\"qualification_round_2019.in/b_lovely_landscapes.txt\",i)\n",
    "    tdebut = time.clock()\n",
    "    presentation = methodeGloutonne1(instance)\n",
    "    tfin = time.clock()\n",
    "    tailles.append(instance.n) # taille des instances\n",
    "    t = tfin - tdebut\n",
    "    temps.append(t)\n",
    "    print(\"Taille :\",instance.n)\n",
    "    print(\"Temps :\",t,\"s\")"
   ]
  },
  {
   "cell_type": "code",
   "execution_count": 327,
   "metadata": {},
   "outputs": [
    {
     "data": {
      "image/png": "[encoded data removed]",
      "text/plain": [
       "<Figure size 432x288 with 1 Axes>"
      ]
     },
     "metadata": {},
     "output_type": "display_data"
    }
   ],
   "source": [
    "plt.plot(tailles,temps)\n",
    "plt.xlabel(\"Taille de l'instance\")\n",
    "plt.ylabel(\"Temps d'exécution (s)\")\n",
    "plt.show()"
   ]
  },
  {
   "cell_type": "code",
   "execution_count": 347,
   "metadata": {},
   "outputs": [],
   "source": [
    "def methodeGloutonne2(instance):\n",
    "    \"\"\"\n",
    "        Implémentation de la méthode gloutonne suivante :\n",
    "        - Commencer par une vignette contenant une photo H ou un couple de photos V choisies au hasard\n",
    "        - Ajouter une fois sur 2 une vignette maximisant le score de la transition, le reste du temps\n",
    "          ajouter une vignette choisie de maniere aleatoire\n",
    "    \"\"\"\n",
    "    vignettes = []\n",
    "    photosH = list(instance.photosH) # copie\n",
    "    photosV = list(instance.photosV)\n",
    "    photos = photosH + photosV\n",
    "    photo1 = photos[np.random.randint(0,len(photos))]\n",
    "    if photo1.orientation == \"H\":\n",
    "        vignettes.append(Vignette(photo1))\n",
    "        photosH.remove(photo1)\n",
    "        photos = photosH + photosV\n",
    "    else:\n",
    "        if len(photosV) > 1:\n",
    "            photosV.remove(photo1)\n",
    "            photo2 = photosV[np.random.randint(0,len(photosV))]\n",
    "            vignettes.append(Vignette(photo1,photo2))\n",
    "            photosV.remove(photo2)\n",
    "            photos = photosH + photosV\n",
    "        else:\n",
    "            photosV.remove(photo1)\n",
    "        \n",
    "    V_cour = vignettes[0] # vignette courante (S_i)\n",
    "    while len(photos)>0:\n",
    "        if np.random.random() > 0.5:\n",
    "            best_photo1_suiv = None\n",
    "            max_score = 0\n",
    "            for photo in photos:\n",
    "                score = score_t(V_cour,photo)\n",
    "                if score >= max_score:\n",
    "                    max_score = score\n",
    "                    best_photo1_suiv = photo\n",
    "            if best_photo1_suiv.orientation == \"H\":\n",
    "                V_cour = Vignette(best_photo1_suiv,None)\n",
    "                vignettes.append(V_cour)\n",
    "                photosH.remove(best_photo1_suiv)\n",
    "            else:\n",
    "                best_photo2_suiv = None\n",
    "                max_score = 0\n",
    "                for photo in [p for p in photos if p.orientation == \"V\" and p != best_photo1_suiv]:\n",
    "                    score = score_t(V_cour,Vignette(best_photo1_suiv,photo))\n",
    "                    if score >= max_score:\n",
    "                        max_score = score\n",
    "                        best_photo2_suiv = photo\n",
    "                if best_photo2_suiv != None:\n",
    "                    V_cour = Vignette(best_photo1_suiv,best_photo2_suiv)\n",
    "                    vignettes.append(V_cour)\n",
    "                    photosV.remove(best_photo1_suiv)\n",
    "                    photosV.remove(best_photo2_suiv)\n",
    "                else:\n",
    "                    photos.remove(best_photo1_suiv)\n",
    "            photos = photosH + photosV\n",
    "        else:\n",
    "            photo1 = photos[np.random.randint(0,len(photos))]\n",
    "            if photo1.orientation == \"H\":\n",
    "                V_cour = Vignette(photo1,None)\n",
    "                vignettes.append(V_cour)\n",
    "                photosH.remove(photo1)\n",
    "            else:\n",
    "                if len(photosV) > 1:\n",
    "                    photosV.remove(photo1)\n",
    "                    photo2 = photosV[np.random.randint(0,len(photosV))]\n",
    "                    V_cour = Vignette(photo1,photo2)\n",
    "                    vignettes.append(V_cour)\n",
    "                    photosV.remove(photo2)\n",
    "                else:\n",
    "                    photosV.remove(photo1)\n",
    "            photos = photosH + photosV\n",
    "            \n",
    "    return Presentation(vignettes)"
   ]
  },
  {
   "cell_type": "code",
   "execution_count": 348,
   "metadata": {},
   "outputs": [
    {
     "data": {
      "text/plain": [
       "36"
      ]
     },
     "execution_count": 348,
     "metadata": {},
     "output_type": "execute_result"
    }
   ],
   "source": [
    "instance = lire(\"qualification_round_2019.in/b_lovely_landscapes.txt\",1)\n",
    "presentation = methodeGloutonne2(instance)\n",
    "ecrire(presentation,\"sol/MethodeGloutonne2/b_lovely_landscapes\")\n",
    "score_p(presentation)"
   ]
  },
  {
   "cell_type": "code",
   "execution_count": 349,
   "metadata": {},
   "outputs": [
    {
     "data": {
      "text/plain": [
       "114"
      ]
     },
     "execution_count": 349,
     "metadata": {},
     "output_type": "execute_result"
    }
   ],
   "source": [
    "instance = lire(\"qualification_round_2019.in/b_lovely_landscapes.txt\",2)\n",
    "presentation = methodeGloutonne2(instance)\n",
    "ecrire(presentation,\"sol/MethodeGloutonne2/b_lovely_landscapes\")\n",
    "score_p(presentation)"
   ]
  },
  {
   "cell_type": "code",
   "execution_count": 350,
   "metadata": {},
   "outputs": [
    {
     "data": {
      "text/plain": [
       "938"
      ]
     },
     "execution_count": 350,
     "metadata": {},
     "output_type": "execute_result"
    }
   ],
   "source": [
    "instance = lire(\"qualification_round_2019.in/c_memorable_moments.txt\",100)\n",
    "presentation = methodeGloutonne2(instance)\n",
    "ecrire(presentation,\"sol/MethodeGloutonne2/c_memorable_moments\")\n",
    "score_p(presentation)"
   ]
  },
  {
   "cell_type": "code",
   "execution_count": 351,
   "metadata": {},
   "outputs": [
    {
     "data": {
      "text/plain": [
       "2597"
      ]
     },
     "execution_count": 351,
     "metadata": {},
     "output_type": "execute_result"
    }
   ],
   "source": [
    "instance = lire(\"qualification_round_2019.in/d_pet_pictures.txt\",1)\n",
    "presentation = methodeGloutonne2(instance)\n",
    "ecrire(presentation,\"sol/MethodeGloutonne2/d_pet_pictures\")\n",
    "score_p(presentation)"
   ]
  },
  {
   "cell_type": "code",
   "execution_count": 352,
   "metadata": {},
   "outputs": [
    {
     "data": {
      "text/plain": [
       "5329"
      ]
     },
     "execution_count": 352,
     "metadata": {},
     "output_type": "execute_result"
    }
   ],
   "source": [
    "instance = lire(\"qualification_round_2019.in/d_pet_pictures.txt\",2)\n",
    "presentation = methodeGloutonne2(instance)\n",
    "ecrire(presentation,\"sol/MethodeGloutonne2/d_pet_pictures\")\n",
    "score_p(presentation)"
   ]
  },
  {
   "cell_type": "code",
   "execution_count": 353,
   "metadata": {},
   "outputs": [
    {
     "data": {
      "text/plain": [
       "2654"
      ]
     },
     "execution_count": 353,
     "metadata": {},
     "output_type": "execute_result"
    }
   ],
   "source": [
    "instance = lire(\"qualification_round_2019.in/e_shiny_selfies.txt\",1)\n",
    "presentation = methodeGloutonne2(instance)\n",
    "ecrire(presentation,\"sol/MethodeGloutonne2/e_shiny_selfies\")\n",
    "score_p(presentation)"
   ]
  },
  {
   "cell_type": "code",
   "execution_count": 354,
   "metadata": {},
   "outputs": [
    {
     "data": {
      "text/plain": [
       "5291"
      ]
     },
     "execution_count": 354,
     "metadata": {},
     "output_type": "execute_result"
    }
   ],
   "source": [
    "instance = lire(\"qualification_round_2019.in/e_shiny_selfies.txt\",2)\n",
    "presentation = methodeGloutonne2(instance)\n",
    "ecrire(presentation,\"sol/MethodeGloutonne2/e_shiny_selfies\")\n",
    "score_p(presentation)"
   ]
  },
  {
   "cell_type": "code",
   "execution_count": 324,
   "metadata": {},
   "outputs": [
    {
     "name": "stdout",
     "output_type": "stream",
     "text": [
      "Taille : 800\n",
      "Temps : 1.9974870000005467 s\n",
      "Taille : 1600\n",
      "Temps : 7.564672000000428 s\n",
      "Taille : 2400\n",
      "Temps : 19.35297999999966 s\n",
      "Taille : 3200\n",
      "Temps : 32.575261999999384 s\n",
      "Taille : 4000\n",
      "Temps : 48.627477 s\n",
      "Taille : 4800\n",
      "Temps : 67.82017999999971 s\n",
      "Taille : 5600\n",
      "Temps : 94.36117099999956 s\n",
      "Taille : 6400\n",
      "Temps : 125.591633 s\n",
      "Taille : 7200\n",
      "Temps : 151.9394139999995 s\n"
     ]
    }
   ],
   "source": [
    "tailles = [0]\n",
    "temps = [0]\n",
    "for i in range(1,10):\n",
    "    instance = lire(\"qualification_round_2019.in/b_lovely_landscapes.txt\",i)\n",
    "    tdebut = time.clock()\n",
    "    presentation = methodeGloutonne2(instance)\n",
    "    tfin = time.clock()\n",
    "    tailles.append(instance.n)\n",
    "    t = tfin - tdebut\n",
    "    temps.append(t)\n",
    "    print(\"Taille :\",instance.n)\n",
    "    print(\"Temps :\",t,\"s\")"
   ]
  },
  {
   "cell_type": "code",
   "execution_count": 325,
   "metadata": {},
   "outputs": [
    {
     "data": {
      "image/png": "[encoded data removed]",
      "text/plain": [
       "<Figure size 432x288 with 1 Axes>"
      ]
     },
     "metadata": {},
     "output_type": "display_data"
    }
   ],
   "source": [
    "plt.plot(tailles,temps)\n",
    "plt.xlabel(\"Taille de l'instance\")\n",
    "plt.ylabel(\"Temps d'exécution (s)\")\n",
    "plt.show()"
   ]
  },
  {
   "cell_type": "code",
   "execution_count": 295,
   "metadata": {
    "collapsed": true
   },
   "outputs": [],
   "source": [
    "def presentationAleatoire(instance):\n",
    "    vignettes = []\n",
    "    photosH = list(instance.photosH)\n",
    "    photosV = list(instance.photosV)\n",
    "    photos = photosH + photosV\n",
    "    while len(photos)>0:\n",
    "        photo1 = photos[np.random.randint(0,len(photos))]\n",
    "        if photo1.orientation == \"H\":\n",
    "            vignettes.append(Vignette(photo1))\n",
    "            photosH.remove(photo1)\n",
    "            photos = photosH + photosV\n",
    "        else:\n",
    "            if len(photosV) > 1:\n",
    "                photosV.remove(photo1)\n",
    "                photo2 = photosV[np.random.randint(0,len(photosV))]\n",
    "                vignettes.append(Vignette(photo1,photo2))\n",
    "                photosV.remove(photo2)\n",
    "                photos = photosH + photosV\n",
    "            else:\n",
    "                photosV.remove(photo1)\n",
    "    return Presentation(vignettes)"
   ]
  },
  {
   "cell_type": "code",
   "execution_count": 296,
   "metadata": {},
   "outputs": [
    {
     "data": {
      "text/plain": [
       "0"
      ]
     },
     "execution_count": 296,
     "metadata": {},
     "output_type": "execute_result"
    }
   ],
   "source": [
    "instance = lire(\"qualification_round_2019.in/b_lovely_landscapes.txt\",1)\n",
    "presentation = presentationAleatoire(instance)\n",
    "ecrire(presentation,\"sol/Random/b_lovely_landscapes\")\n",
    "score_p(presentation)"
   ]
  },
  {
   "cell_type": "code",
   "execution_count": 297,
   "metadata": {},
   "outputs": [
    {
     "data": {
      "text/plain": [
       "12"
      ]
     },
     "execution_count": 297,
     "metadata": {},
     "output_type": "execute_result"
    }
   ],
   "source": [
    "instance = lire(\"qualification_round_2019.in/b_lovely_landscapes.txt\",100)\n",
    "presentation = presentationAleatoire(instance)\n",
    "ecrire(presentation,\"sol/Random/b_lovely_landscapes\")\n",
    "score_p(presentation)"
   ]
  },
  {
   "cell_type": "code",
   "execution_count": 146,
   "metadata": {},
   "outputs": [
    {
     "data": {
      "text/plain": [
       "141"
      ]
     },
     "execution_count": 146,
     "metadata": {},
     "output_type": "execute_result"
    }
   ],
   "source": [
    "instance = lire(\"qualification_round_2019.in/c_memorable_moments.txt\",100)\n",
    "presentation = presentationAleatoire(instance)\n",
    "ecrire(presentation,\"sol/Random/c_memorable_moments\")\n",
    "score_p(presentation)"
   ]
  },
  {
   "cell_type": "code",
   "execution_count": 148,
   "metadata": {},
   "outputs": [
    {
     "data": {
      "text/plain": [
       "8963"
      ]
     },
     "execution_count": 148,
     "metadata": {},
     "output_type": "execute_result"
    }
   ],
   "source": [
    "instance = lire(\"qualification_round_2019.in/d_pet_pictures.txt\",5)\n",
    "presentation = presentationAleatoire(instance)\n",
    "ecrire(presentation,\"sol/Random/d_pet_pictures\")\n",
    "score_p(presentation)"
   ]
  },
  {
   "cell_type": "code",
   "execution_count": 149,
   "metadata": {},
   "outputs": [
    {
     "data": {
      "text/plain": [
       "175802"
      ]
     },
     "execution_count": 149,
     "metadata": {},
     "output_type": "execute_result"
    }
   ],
   "source": [
    "instance = lire(\"qualification_round_2019.in/d_pet_pictures.txt\",100)\n",
    "presentation = presentationAleatoire(instance)\n",
    "ecrire(presentation,\"sol/Random/d_pet_pictures\")\n",
    "score_p(presentation)"
   ]
  },
  {
   "cell_type": "code",
   "execution_count": 150,
   "metadata": {},
   "outputs": [
    {
     "data": {
      "text/plain": [
       "3343"
      ]
     },
     "execution_count": 150,
     "metadata": {},
     "output_type": "execute_result"
    }
   ],
   "source": [
    "instance = lire(\"qualification_round_2019.in/e_shiny_selfies.txt\",3)\n",
    "presentation = presentationAleatoire(instance)\n",
    "ecrire(presentation,\"sol/Random/e_shiny_selfies\")\n",
    "score_p(presentation)"
   ]
  },
  {
   "cell_type": "code",
   "execution_count": 151,
   "metadata": {},
   "outputs": [
    {
     "data": {
      "text/plain": [
       "112459"
      ]
     },
     "execution_count": 151,
     "metadata": {},
     "output_type": "execute_result"
    }
   ],
   "source": [
    "instance = lire(\"qualification_round_2019.in/e_shiny_selfies.txt\",100)\n",
    "presentation = presentationAleatoire(instance)\n",
    "ecrire(presentation,\"sol/Random/e_shiny_selfies\")\n",
    "score_p(presentation)"
   ]
  },
  {
   "cell_type": "code",
   "execution_count": 319,
   "metadata": {},
   "outputs": [
    {
     "name": "stdout",
     "output_type": "stream",
     "text": [
      "Taille : 800\n",
      "Temps : 0.015951000000313797 s\n",
      "Taille : 1600\n",
      "Temps : 0.029377999999269377 s\n",
      "Taille : 2400\n",
      "Temps : 0.0366970000004585 s\n",
      "Taille : 3200\n",
      "Temps : 0.07083899999997811 s\n",
      "Taille : 4000\n",
      "Temps : 0.14236500000060914 s\n",
      "Taille : 4800\n",
      "Temps : 0.16406800000004296 s\n",
      "Taille : 5600\n",
      "Temps : 0.23007700000016484 s\n",
      "Taille : 6400\n",
      "Temps : 0.29532300000028044 s\n",
      "Taille : 7200\n",
      "Temps : 0.38493000000016764 s\n"
     ]
    }
   ],
   "source": [
    "tailles = [0]\n",
    "temps = [0]\n",
    "for i in range(1,10):\n",
    "    instance = lire(\"qualification_round_2019.in/b_lovely_landscapes.txt\",i)\n",
    "    tdebut = time.clock()\n",
    "    presentation = presentationAleatoire(instance)\n",
    "    tfin = time.clock()\n",
    "    tailles.append(instance.n)\n",
    "    t = tfin - tdebut\n",
    "    temps.append(t)\n",
    "    print(\"Taille :\",instance.n)\n",
    "    print(\"Temps :\",t,\"s\")"
   ]
  },
  {
   "cell_type": "markdown",
   "metadata": {},
   "source": [
    "## Méta-heuristiques"
   ]
  },
  {
   "cell_type": "code",
   "execution_count": 103,
   "metadata": {},
   "outputs": [],
   "source": [
    "def desc(presentation):\n",
    "    meilleure_sol = None # meilleure solution rencontrée au cours de la descente\n",
    "    x = presentation # solution que l'on explore\n",
    "    c = False # booléen indiquant si un voisin améliorant a été trouvé ou non\n",
    "    B = []\n",
    "    score_B = []\n",
    "    score_max = score_p(presentation)\n",
    "    cpt = 0\n",
    "    while cpt < 10 and x != meilleure_sol:\n",
    "        meilleure_sol = x\n",
    "        score_x = score_p(x)\n",
    "        print(\"Score à l'itération\",cpt,\":\",score_x)\n",
    "        B = [x]\n",
    "        score_B = [score_x]\n",
    "        if np.random.random() > 0.5:\n",
    "            #print(\"Permuter vignettes\")\n",
    "            # generation du voisinage\n",
    "            vignettes = x.vignettes\n",
    "            for i in range(1,len(vignettes)-1):\n",
    "                #for j in range(i+1,len(vignettes)):\n",
    "                y = vignettes[:i]\n",
    "                y.append(vignettes[i+1])\n",
    "                y.append(vignettes[i])\n",
    "                y += vignettes[i+2:]\n",
    "                y = Presentation(y)\n",
    "                score_y = score_p(y)\n",
    "                #print(score_y)\n",
    "                if score_y > score_x:\n",
    "                    x = y\n",
    "                    B = [y]\n",
    "                    score_B = [score_y]\n",
    "                elif score_y == score_x:\n",
    "                    B.append(y)\n",
    "                    score_B.append(score_y)\n",
    "            x = B[score_B.index(max(score_B))]\n",
    "        else:\n",
    "            #print(\"Permuter une des deux photos V entre deux vignettes\")\n",
    "            vignettesV = []\n",
    "            for vignette in x.vignettes:\n",
    "                if vignette.photo2 != None:\n",
    "                    vignettesV.append(vignette)\n",
    "            # generation du voisinage\n",
    "            vignettes = x.vignettes\n",
    "            for i in range(1,len(vignettesV) - 1):\n",
    "                #for j in range(i+1,len(vignettesV)):\n",
    "                if np.random.random() > 0.5:\n",
    "                    new_v1 = Vignette(vignettesV[i].photo1,vignettesV[i+1].photo1)\n",
    "                    new_v2 = Vignette(vignettesV[i].photo2,vignettesV[i+1].photo2)\n",
    "                    y = vignettes[:vignettes.index(vignettesV[i])]\n",
    "                    y.append(new_v1)\n",
    "                    y += vignettes[vignettes.index(vignettesV[i])+1:vignettes.index(vignettesV[i+1])]\n",
    "                    y.append(new_v2)\n",
    "                    y += vignettes[vignettes.index(vignettesV[i+1])+1:]\n",
    "                    y = Presentation(y)\n",
    "                    score_y = score_p(y)\n",
    "                    #print(score_y)\n",
    "                    if score_y > score_x:\n",
    "                        x = y\n",
    "                        B = [y]\n",
    "                        score_B = [score_y]\n",
    "                    elif score_y == score_x:\n",
    "                        B.append(y)\n",
    "                        score_B.append(score_y)\n",
    "                else:\n",
    "                    new_v1 = Vignette(vignettesV[i].photo1,vignettesV[i+1].photo2)\n",
    "                    new_v2 = Vignette(vignettesV[i].photo2,vignettesV[i+1].photo1)\n",
    "                    y = vignettes[:vignettes.index(vignettesV[i])]\n",
    "                    y.append(new_v1)\n",
    "                    y += vignettes[vignettes.index(vignettesV[i])+1:vignettes.index(vignettesV[i+1])]\n",
    "                    y.append(new_v2)\n",
    "                    y += vignettes[vignettes.index(vignettesV[i+1])+1:]\n",
    "                    y = Presentation(y)\n",
    "                    score_y = score_p(y)\n",
    "                    #print(score_y)\n",
    "                    if score_y > score_x:\n",
    "                        x = y\n",
    "                        B = [y]\n",
    "                        score_B = [score_y]\n",
    "                    elif score_y == score_x:\n",
    "                        B.append(y)\n",
    "                        score_B.append(score_y)\n",
    "            x = B[score_B.index(max(score_B))]\n",
    "        cpt += 1\n",
    "    return x"
   ]
  },
  {
   "cell_type": "code",
   "execution_count": 340,
   "metadata": {},
   "outputs": [
    {
     "data": {
      "text/plain": [
       "117"
      ]
     },
     "execution_count": 340,
     "metadata": {},
     "output_type": "execute_result"
    }
   ],
   "source": [
    "instance = lire(\"qualification_round_2019.in/b_lovely_landscapes.txt\",2)\n",
    "presentation = methodeGloutonne2(instance)\n",
    "ecrire(presentation,\"sol/MethodeGloutonne2/b_lovely_landscapes\")\n",
    "score_p(presentation)"
   ]
  },
  {
   "cell_type": "code",
   "execution_count": 341,
   "metadata": {
    "scrolled": true
   },
   "outputs": [
    {
     "name": "stdout",
     "output_type": "stream",
     "text": [
      "Score à l'itération 0 : 117\n",
      "Permuter vignettes\n"
     ]
    },
    {
     "data": {
      "text/plain": [
       "117"
      ]
     },
     "execution_count": 341,
     "metadata": {},
     "output_type": "execute_result"
    }
   ],
   "source": [
    "sol = desc(presentation)\n",
    "ecrire(sol,\"qualification_round_2019.in/b_lovely_landscapes\")\n",
    "score_p(sol)"
   ]
  },
  {
   "cell_type": "code",
   "execution_count": 360,
   "metadata": {},
   "outputs": [
    {
     "data": {
      "text/plain": [
       "1007"
      ]
     },
     "execution_count": 360,
     "metadata": {},
     "output_type": "execute_result"
    }
   ],
   "source": [
    "instance = lire(\"qualification_round_2019.in/c_memorable_moments.txt\",100)\n",
    "presentation = methodeGloutonne2(instance)\n",
    "ecrire(presentation,\"sol/MethodeGloutonne2/c_memorable_moments\")\n",
    "score_p(presentation)"
   ]
  },
  {
   "cell_type": "code",
   "execution_count": 361,
   "metadata": {
    "scrolled": true
   },
   "outputs": [
    {
     "name": "stdout",
     "output_type": "stream",
     "text": [
      "Score à l'itération 0 : 1007\n",
      "Permuter une des deux photos V entre deux vignettes\n",
      "Score à l'itération 1 : 1008\n",
      "Permuter une des deux photos V entre deux vignettes\n",
      "Score à l'itération 2 : 1009\n",
      "Permuter vignettes\n",
      "Score à l'itération 3 : 1010\n",
      "Permuter vignettes\n",
      "Score à l'itération 4 : 1011\n",
      "Permuter vignettes\n",
      "Score à l'itération 5 : 1012\n",
      "Permuter vignettes\n",
      "Score à l'itération 6 : 1013\n",
      "Permuter vignettes\n",
      "Score à l'itération 7 : 1014\n",
      "Permuter vignettes\n",
      "Score à l'itération 8 : 1015\n",
      "Permuter une des deux photos V entre deux vignettes\n",
      "Score à l'itération 9 : 1016\n",
      "Permuter vignettes\n"
     ]
    },
    {
     "data": {
      "text/plain": [
       "1017"
      ]
     },
     "execution_count": 361,
     "metadata": {},
     "output_type": "execute_result"
    }
   ],
   "source": [
    "sol =  desc(presentation)\n",
    "ecrire(sol,\"sol/Desc/c_memorable_moments\")\n",
    "score_p(sol)"
   ]
  },
  {
   "cell_type": "code",
   "execution_count": 362,
   "metadata": {},
   "outputs": [
    {
     "data": {
      "text/plain": [
       "2675"
      ]
     },
     "execution_count": 362,
     "metadata": {},
     "output_type": "execute_result"
    }
   ],
   "source": [
    "instance = lire(\"qualification_round_2019.in/d_pet_pictures.txt\",1)\n",
    "presentation = methodeGloutonne2(instance)\n",
    "ecrire(presentation,\"sol/MethodeGloutonne2/d_pet_pictures\")\n",
    "score_p(presentation)"
   ]
  },
  {
   "cell_type": "code",
   "execution_count": 363,
   "metadata": {
    "scrolled": true
   },
   "outputs": [
    {
     "name": "stdout",
     "output_type": "stream",
     "text": [
      "Score à l'itération 0 : 2675\n",
      "Permuter vignettes\n",
      "Score à l'itération 1 : 2676\n",
      "Permuter vignettes\n",
      "Score à l'itération 2 : 2677\n",
      "Permuter vignettes\n",
      "Score à l'itération 3 : 2678\n",
      "Permuter une des deux photos V entre deux vignettes\n",
      "Score à l'itération 4 : 2680\n",
      "Permuter une des deux photos V entre deux vignettes\n",
      "Score à l'itération 5 : 2682\n",
      "Permuter une des deux photos V entre deux vignettes\n",
      "Score à l'itération 6 : 2683\n",
      "Permuter une des deux photos V entre deux vignettes\n",
      "Score à l'itération 7 : 2684\n",
      "Permuter vignettes\n",
      "Score à l'itération 8 : 2685\n",
      "Permuter vignettes\n",
      "Score à l'itération 9 : 2687\n",
      "Permuter vignettes\n"
     ]
    },
    {
     "data": {
      "text/plain": [
       "2688"
      ]
     },
     "execution_count": 363,
     "metadata": {},
     "output_type": "execute_result"
    }
   ],
   "source": [
    "sol =  desc(presentation)\n",
    "ecrire(sol,\"sol/Desc/d_pet_pictures\")\n",
    "score_p(sol)"
   ]
  },
  {
   "cell_type": "code",
   "execution_count": 368,
   "metadata": {},
   "outputs": [
    {
     "data": {
      "text/plain": [
       "2509"
      ]
     },
     "execution_count": 368,
     "metadata": {},
     "output_type": "execute_result"
    }
   ],
   "source": [
    "instance = lire(\"qualification_round_2019.in/e_shiny_selfies.txt\",1)\n",
    "presentation = methodeGloutonne2(instance)\n",
    "ecrire(sol,\"sol/Desc/d_pet_pictures\")\n",
    "score_p(presentation)"
   ]
  },
  {
   "cell_type": "code",
   "execution_count": 365,
   "metadata": {
    "scrolled": true
   },
   "outputs": [
    {
     "name": "stdout",
     "output_type": "stream",
     "text": [
      "Score à l'itération 0 : 2585\n",
      "Permuter vignettes\n",
      "Score à l'itération 1 : 2587\n",
      "Permuter une des deux photos V entre deux vignettes\n",
      "Score à l'itération 2 : 2588\n",
      "Permuter vignettes\n",
      "Score à l'itération 3 : 2590\n",
      "Permuter vignettes\n",
      "Score à l'itération 4 : 2594\n",
      "Permuter vignettes\n",
      "Score à l'itération 5 : 2595\n",
      "Permuter vignettes\n",
      "Score à l'itération 6 : 2603\n",
      "Permuter vignettes\n",
      "Score à l'itération 7 : 2606\n",
      "Permuter une des deux photos V entre deux vignettes\n",
      "Score à l'itération 8 : 2608\n",
      "Permuter une des deux photos V entre deux vignettes\n",
      "Score à l'itération 9 : 2609\n",
      "Permuter une des deux photos V entre deux vignettes\n",
      "2610\n"
     ]
    }
   ],
   "source": [
    "sol =  desc(presentation)\n",
    "ecrire(sol,\"qualification_round_2019.in/e_shiny_selfies\")\n",
    "print(score_p(sol))"
   ]
  },
  {
   "cell_type": "code",
   "execution_count": 408,
   "metadata": {},
   "outputs": [
    {
     "data": {
      "text/plain": [
       "175510"
      ]
     },
     "execution_count": 408,
     "metadata": {},
     "output_type": "execute_result"
    }
   ],
   "source": [
    "instance = lire(\"qualification_round_2019.in/d_pet_pictures.txt\",100)\n",
    "presentation = presentationAleatoire(instance)\n",
    "ecrire(presentation,\"sol/Random/d_pet_pictures\")\n",
    "score_p(presentation)"
   ]
  },
  {
   "cell_type": "code",
   "execution_count": null,
   "metadata": {},
   "outputs": [],
   "source": [
    "instance = lire(\"qualification_round_2019.in/e_shiny_selfies.txt\",100)\n",
    "presentation = presentationAleatoire(instance)\n",
    "ecrire(presentation,\"sol/Random/e_shiny_selfies\")\n",
    "score_p(presentation)"
   ]
  },
  {
   "cell_type": "code",
   "execution_count": null,
   "metadata": {
    "scrolled": true
   },
   "outputs": [],
   "source": [
    "sol =  desc(presentation)\n",
    "ecrire(sol,\"sol/Best/e_shiny_selfies\")\n",
    "print(score_p(sol))"
   ]
  },
  {
   "cell_type": "code",
   "execution_count": 369,
   "metadata": {},
   "outputs": [],
   "source": [
    "def mutation(z):\n",
    "    \"\"\"\n",
    "        Opérateur de mutation ayant pour effet d'échanger deux\n",
    "        vignettes choisies de manière aléatoire au sein d'une \n",
    "        solution réalisable (présentation) z.\n",
    "    \"\"\"\n",
    "    k1 = np.random.randint(0,z.n)\n",
    "    k2 = np.random.randint(0,z.n)\n",
    "    while k1 == k2:\n",
    "        k2 = np.random.randint(0,z.n)\n",
    "    vignettes = z.vignettes\n",
    "    tmp = vignettes[k1]\n",
    "    vignettes[k1] = vignettes[k2]\n",
    "    vignettes[k2] = tmp\n",
    "    return Presentation(vignettes)\n",
    "\n",
    "def selection(e_meilleurs_individus,F,P):\n",
    "    \"\"\"\n",
    "        Les deux parents à croiser seront choisis aléatoirement parmi\n",
    "        les individus ayant la meilleure fitness (10 meilleurs\n",
    "        individus ici).\n",
    "    \"\"\"\n",
    "    ind_x = np.random.randint(0,len(e_meilleurs_individus))\n",
    "    ind_y = np.random.randint(0,len(e_meilleurs_individus))\n",
    "    while ind_x == ind_y:\n",
    "        ind_y = np.random.randint(0,len(e_meilleurs_individus))\n",
    "    ex = e_meilleurs_individus[ind_x]\n",
    "    ey = e_meilleurs_individus[ind_y]\n",
    "    x = P[F.index(ex)]\n",
    "    y = P[F.index(ey)]\n",
    "    return x,y\n",
    "\n",
    "def croisement(x,y):\n",
    "    \"\"\"\n",
    "        On réalisera un croisement à un point fondé sur le rang : les\n",
    "        éléments du fils figurant à droite du point de croisement p\n",
    "        correspondent à la liste ordonnée des éléments du second parent\n",
    "        ne figurant pas déjà dans la partie gauche\n",
    "    \"\"\"\n",
    "    p = np.random.randint(0,x.n)\n",
    "    z1 = x.vignettes[:p]\n",
    "    ind_photos_z1 = [x.vignettes[i].photo1.index for i in range(len(z1))]\n",
    "    i = 0\n",
    "    while len(z1) < x.n:\n",
    "        if y.vignettes[i].photo1.index not in ind_photos_z1:\n",
    "            z1.append(y.vignettes[i])\n",
    "        i += 1\n",
    "    z2 = y.vignettes[:p]\n",
    "    ind_photos_z2 = [y.vignettes[i].photo1.index for i in range(len(z2))]\n",
    "    i = 0\n",
    "    while len(z2) < x.n:\n",
    "        if x.vignettes[i].photo1.index not in ind_photos_z2:\n",
    "            z2.append(x.vignettes[i])\n",
    "        i += 1\n",
    "    return Presentation(z1),Presentation(z2)\n",
    "\n",
    "def algorithmeGenetique(N, NbG, pm, instance, affichages = False):\n",
    "    P = [] #population = ensemble de N présentations (= N solutions possibles)\n",
    "    for i in range(N):\n",
    "        presentation = methodeGloutonne2(Instance(instance.n,list(instance.photosH),list(instance.photosV)))\n",
    "        P.append(presentation)\n",
    "    individuOptimal = P[0]\n",
    "    meilleur_individu_rencontre = individuOptimal\n",
    "    meilleur_score = score_p(meilleur_individu_rencontre)\n",
    "    nbg = []\n",
    "    fitness = []\n",
    "    for k in range(NbG):\n",
    "        nbg.append(k)\n",
    "        F = [] #liste des fitness de chaque individu de la population\n",
    "        for i in range(N):\n",
    "            F.append(score_p(P[i]))\n",
    "        F_triee = sorted(F)\n",
    "        f_max = F_triee[-1]\n",
    "        fitness.append(f_max)\n",
    "        if affichages:\n",
    "            print(\"Génération\",k,\" --> Score de l'individu optimal :\",f_max)\n",
    "        individuOptimal = P[F.index(f_max)]\n",
    "        if f_max > meilleur_score:\n",
    "            meilleur_individu_rencontre = individuOptimal\n",
    "            meilleur_score = f_max\n",
    "        F_5 = F_triee[-5:]\n",
    "        newP = []\n",
    "        for i in range(N//2):\n",
    "            # Sélection : on choisit aléatoirement 2 individus parmi les 10 individus ayant la meilleure fitness)\n",
    "            x,y = selection(F_5,F,P)\n",
    "            # Croisement : on réalise un croisement à un point fondé sur le rang\n",
    "            z1,z2 = croisement(x,y)\n",
    "            # Mutation : les nouveaux individus z1 et z2 sont modifiés avec une probabilité pm (deux de leurs villes\n",
    "            # sont permutées de manière aléatoire)\n",
    "            if np.random.random() <= pm:\n",
    "                z1 = mutation(z1)\n",
    "                z2 = mutation(z2)\n",
    "            # Insertion des nouveaux individus dans newP\n",
    "            newP.append(z1)\n",
    "            newP.append(z2)\n",
    "        P = newP\n",
    "    return meilleur_individu_rencontre,nbg,fitness"
   ]
  },
  {
   "cell_type": "code",
   "execution_count": 370,
   "metadata": {},
   "outputs": [],
   "source": [
    "instance = lire(\"qualification_round_2019.in/b_lovely_landscapes.txt\",2)\n",
    "N = 20\n",
    "NbG = 100\n",
    "pm = 0.4\n",
    "individuOptimal,nbg,fitness = algorithmeGenetique(N,NbG,pm,instance)"
   ]
  },
  {
   "cell_type": "code",
   "execution_count": 371,
   "metadata": {},
   "outputs": [
    {
     "data": {
      "text/plain": [
       "168"
      ]
     },
     "execution_count": 371,
     "metadata": {},
     "output_type": "execute_result"
    }
   ],
   "source": [
    "ecrire(individuOptimal,\"sol/AlgoGenetique/b_lovely_landscapes\")\n",
    "score_p(individuOptimal)"
   ]
  },
  {
   "cell_type": "markdown",
   "metadata": {},
   "source": [
    "## Formulations PLNE"
   ]
  },
  {
   "cell_type": "code",
   "execution_count": 388,
   "metadata": {
    "collapsed": true
   },
   "outputs": [],
   "source": [
    "def PLNE(instance):\n",
    "    C=[]\n",
    "    photos = instance.photosH + instance.photosV\n",
    "    presentation = presentationHV(instance)\n",
    "    vignettes = presentation.vignettes\n",
    "    n = len(vignettes)\n",
    "    for i in range(n):\n",
    "        c=[]\n",
    "        for j in range(n):\n",
    "            c.append(score_t(vignettes[i],vignettes[j]))\n",
    "        C.append(c)\n",
    "    m = Model(\"Photo slideshow\")\n",
    "    # Contraintes de base\n",
    "    X = []\n",
    "    for i in range(n):\n",
    "        x = []\n",
    "        for j in range(n):\n",
    "            x.append(m.addVar(vtype=GRB.BINARY, lb=0))\n",
    "        X.append(x)\n",
    "\n",
    "    for i in range(n):\n",
    "        # au plus une transition (i,j)\n",
    "        m.addConstr(quicksum(X[i][j] for j in range(n)) <= 1)\n",
    "        # au plus une transition (j,i)\n",
    "        m.addConstr(quicksum(X[j][i] for j in range(n)) <= 1)\n",
    "\n",
    "    for i in range(n):\n",
    "        for j in range(n):\n",
    "            # pas de transitions (i,j) et (j,i) simultanément\n",
    "            m.addConstr(X[i][j] + X[j][i] <= 1)\n",
    "\n",
    "    m.addConstr(quicksum(quicksum(X[i][j] for j in range(n)) for i in range(n)) == n - 1)\n",
    "\n",
    "    # Elimination des sous-tours (contraintes MTZ)\n",
    "    U = []\n",
    "    for i in range(n):\n",
    "        U.append(m.addVar(vtype=GRB.INTEGER))\n",
    "    m.addConstr(U[0] == 1)\n",
    "    for i in range(1, n):\n",
    "        m.addConstr(2 <= U[i])\n",
    "        m.addConstr(U[i] <= n)\n",
    "\n",
    "    for i in range(0, n):\n",
    "        for j in [x for x in range(0, n) if x != i]:\n",
    "            m.addConstr(U[i] - U[j] + 1 <= n * (1 - X[i][j]))\n",
    "\n",
    "    # Fonction objectif\n",
    "    m.setObjective(quicksum(quicksum(X[i][j] * C[i][j] for j in range(n)) for i in range(n)), GRB.MAXIMIZE)\n",
    "\n",
    "    m.optimize()\n",
    "\n",
    "    vignettes = []\n",
    "    for i in range(n):\n",
    "        vignettes.append(0)\n",
    "    for i in range(n):\n",
    "        vignettes[round(U[i].X)-1] = presentation.vignettes[i]\n",
    "    return Presentation(vignettes)"
   ]
  },
  {
   "cell_type": "code",
   "execution_count": 389,
   "metadata": {},
   "outputs": [
    {
     "name": "stdout",
     "output_type": "stream",
     "text": [
      "Optimize a model with 1282400 rows, 640800 columns and 5118399 nonzeros\n",
      "Variable types: 0 continuous, 640800 integer (640000 binary)\n",
      "Coefficient statistics:\n",
      "  Matrix range     [1e+00, 8e+02]\n",
      "  Objective range  [3e+00, 3e+00]\n",
      "  Bounds range     [1e+00, 1e+00]\n",
      "  RHS range        [1e+00, 8e+02]\n",
      "Presolve removed 324397 rows and 1600 columns (presolve time = 5s) ...\n",
      "Presolve removed 324397 rows and 1600 columns (presolve time = 10s) ...\n",
      "Presolve removed 324397 rows and 1600 columns (presolve time = 17s) ...\n",
      "Presolve removed 324397 rows and 1600 columns\n",
      "Presolve time: 18.07s\n",
      "Presolved: 958003 rows, 639200 columns, 4465611 nonzeros\n",
      "Variable types: 0 continuous, 639200 integer (638401 binary)\n",
      "\n",
      "Deterministic concurrent LP optimizer: dual simplex and barrier\n",
      "Showing barrier log only...\n",
      "\n",
      "Root barrier log...\n",
      "\n",
      "Ordering time: 0.00s\n",
      "\n",
      "Barrier statistics:\n",
      " Dense cols : 799\n",
      " AA' NZ     : 6.060e+06\n",
      " Factor NZ  : 1.148e+07 (roughly 700 MBytes of memory)\n",
      " Factor Ops : 4.678e+09 (less than 1 second per iteration)\n",
      " Threads    : 1\n",
      "\n",
      "                  Objective                Residual\n",
      "Iter       Primal          Dual         Primal    Dual     Compl     Time\n",
      "   0   8.59322091e+02  1.99277731e+03  5.00e+06 2.60e-02  1.31e+01    39s\n",
      "   1   7.48966011e+02  1.52711968e+06  4.39e+06 7.67e-13  1.09e+01    40s\n",
      "   2   2.44120993e+01  1.19548877e+06  3.00e+03 5.29e-13  5.41e-01    42s\n",
      "   3   1.56655631e+01  7.72261010e+05  3.97e+02 3.38e-13  3.46e-01    44s\n",
      "   4   1.92795796e+01  8.57405492e+03  3.21e+00 4.05e-15  3.83e-03    45s\n",
      "   5   5.69987981e+01  2.54065567e+02  3.45e-01 6.66e-16  8.82e-05    47s\n",
      "   6   4.99810400e+01  5.73175137e+01  1.85e-02 4.44e-16  3.28e-06    49s\n",
      "   7   5.69907903e+01  5.70014002e+01  5.76e-06 2.78e-17  4.74e-09    51s\n",
      "   8   5.69999908e+01  5.70000014e+01  5.77e-10 1.90e-16  4.74e-12    53s\n",
      "   9   5.70000000e+01  5.70000000e+01  8.87e-12 1.79e-16  1.65e-16    54s\n",
      "\n",
      "Barrier solved model in 9 iterations and 54.36 seconds\n",
      "Optimal objective 5.70000000e+01\n",
      "\n",
      "\n",
      "Root crossover log...\n",
      "\n",
      "     800 DPushes remaining with DInf 0.0000000e+00                56s\n",
      "       0 DPushes remaining with DInf 0.0000000e+00                56s\n",
      "\n",
      "  638418 PPushes remaining with PInf 0.0000000e+00                56s\n",
      "  598660 PPushes remaining with PInf 0.0000000e+00                60s\n",
      "  495989 PPushes remaining with PInf 0.0000000e+00                65s\n",
      "  385495 PPushes remaining with PInf 0.0000000e+00                70s\n",
      "  209400 PPushes remaining with PInf 0.0000000e+00                75s\n",
      "   18809 PPushes remaining with PInf 0.0000000e+00                80s\n",
      "       0 PPushes remaining with PInf 0.0000000e+00                81s\n",
      "\n",
      "  Push phase complete: Pinf 0.0000000e+00, Dinf 0.0000000e+00     81s\n",
      "\n",
      "\n",
      "Root simplex log...\n",
      "\n",
      "Iteration    Objective       Primal Inf.    Dual Inf.      Time\n",
      "  639184    5.7000000e+01   0.000000e+00   0.000000e+00     81s\n",
      "Concurrent spin time: 18.60s (can be avoided by choosing Method=3)\n",
      "\n",
      "Solved with barrier\n",
      "\n",
      "Root relaxation: objective 5.700000e+01, 639184 iterations, 47.21 seconds\n",
      "\n",
      "    Nodes    |    Current Node    |     Objective Bounds      |     Work\n",
      " Expl Unexpl |  Obj  Depth IntInf | Incumbent    BestBd   Gap | It/Node Time\n",
      "\n",
      "     0     0   57.00000    0 1847          -   57.00000      -     -  234s\n",
      "H    0     0                      57.0000000   57.00000  0.00%     -  242s\n",
      "\n",
      "Explored 1 nodes (658974 simplex iterations) in 242.63 seconds\n",
      "Thread count was 4 (of 4 available processors)\n",
      "\n",
      "Solution count 1: 57 \n",
      "\n",
      "Optimal solution found (tolerance 1.00e-04)\n",
      "Best objective 5.700000000000e+01, best bound 5.700000000000e+01, gap 0.0000%\n"
     ]
    }
   ],
   "source": [
    "instance = lire(\"qualification_round_2019.in/b_lovely_landscapes.txt\",1)\n",
    "presentation = PLNE(instance)"
   ]
  },
  {
   "cell_type": "code",
   "execution_count": 390,
   "metadata": {},
   "outputs": [
    {
     "data": {
      "text/plain": [
       "57"
      ]
     },
     "execution_count": 390,
     "metadata": {},
     "output_type": "execute_result"
    }
   ],
   "source": [
    "ecrire(presentation,\"sol/PLNE/b_lovely_landscapes\")\n",
    "score_p(presentation)"
   ]
  },
  {
   "cell_type": "code",
   "execution_count": null,
   "metadata": {
    "collapsed": true
   },
   "outputs": [],
   "source": [
    "def PLNE_HV(instance):\n",
    "    photosH = list(instance.photosH)\n",
    "    photosV = list(instance.photosV)\n",
    "    if len(photosV) %2 !=0:\n",
    "        photosV.pop()\n",
    "    nbH = len(photosH)\n",
    "    nbV = len(photosV)\n",
    "    vignettes = []\n",
    "    # Ajout de toutes les vignettes possibles avec les photos\n",
    "    for i in range(nbV):\n",
    "        for j in range(i, nbV):\n",
    "            if i!=j:\n",
    "                vignettes.append(Vignette(photosV[i],photosV[j]))\n",
    "    # Ajout d'une liste de vignettes incompatibles si on ajoute la ième vignette\n",
    "    constV=[]\n",
    "    for i in range(len(slides)):\n",
    "        c=[]\n",
    "        for j in range(len(slides)):\n",
    "            if i!=j:\n",
    "                if vignettes[i].photo1.index == vignettes[j].photo1.index or vignettes[i].photo2.index == vignettes[j].photo2.index:\n",
    "                    c.append(j)\n",
    "        constV.append(c)\n",
    "    for p in photosH:\n",
    "        vignettes.append(Vignette(p))\n",
    "    n=len(vignettes)\n",
    "    #Matrice de cout\n",
    "    C=[]\n",
    "    for i in range(n):\n",
    "        c=[]\n",
    "        for j in range(n):\n",
    "            c.append(score_t(vignettes[i],vignettes[j]))\n",
    "        C.append(c)\n",
    "        m = Model(\"Photo slideshow\")\n",
    "    # Contraintes de base\n",
    "    X = []\n",
    "    for i in range(n):\n",
    "        x = []\n",
    "        for j in range(n):\n",
    "            x.append(m.addVar(vtype=GRB.BINARY, lb=0))\n",
    "        X.append(x)\n",
    "\n",
    "    for i in range(n):\n",
    "        m.addConstr(quicksum(X[i][j] for j in range(n)) <= 1)\n",
    "        m.addConstr(quicksum(X[j][i] for j in range(n)) <= 1)\n",
    "\n",
    "    for i in range(n):\n",
    "        for j in range(n):\n",
    "            m.addConstr(X[i][j] + X[j][i] <= 1)\n",
    "\n",
    "    m.addConstr(quicksum(quicksum(X[i][j] for j in range(n)) for i in range(n)) == n - 1)\n",
    "\n",
    "    # Elimination des sous-tours\n",
    "    U = []\n",
    "    for i in range(n):\n",
    "        U.append(m.addVar(vtype=GRB.INTEGER))\n",
    "    m.addConstr(U[0] == 1)\n",
    "    for i in range(1, n):\n",
    "        m.addConstr(2 <= U[i])\n",
    "        m.addConstr(U[i] <= n)\n",
    "\n",
    "    for i in range(0, n):\n",
    "        for j in [x for x in range(0, n) if x != i]:\n",
    "            m.addConstr(U[i] - U[j] + 1 <= n * (1 - X[i][j]))\n",
    "    \n",
    "    #Impose les slides horizontales dans les premières slides\n",
    "    for i in range(sum([x for x in range(nbV)]), nbH+sum([x for x in range(nbV)])):\n",
    "        m.addConstr(U[i]<=nbH+int(nbV/2))\n",
    "    #Impose que si une slide verticale est dans les premières slides\n",
    "    #les slides incompatibles doivent être dans les dernières\n",
    "    print(nbV, nbH)\n",
    "    print((round(nbH/(nbH+0.1))))\n",
    "    #########################\n",
    "    for i in range(len(constV)):\n",
    "\n",
    "        for j in constV[i]:\n",
    "            m.addConstr(U[i]+U[j]>=(2*nbH+int(nbV/2))*(round(nbH/(nbH+0.1))) + (2*nbH+2*int(nbV/2))*(1-round(nbH/(nbH+0.1))))\n",
    "    #########################\n",
    "    m.setObjective(quicksum(quicksum((X[i][j] * C[i][j]) for j in range(n)) for i in range(n)), GRB.MAXIMIZE)\n",
    "\n",
    "    m.optimize()\n",
    "    \n",
    "    for i in range(len(U)):\n",
    "        print([x.X for x in X[i]])\n",
    "    for i in range(len(U)):\n",
    "        print(\"U\"+str(i),U[i].X)\n",
    "    slidesres=[]\n",
    "    #Ajoute les premières slides dans le slideshow\n",
    "    for i in range(nbH+int(nbV/2)):\n",
    "        slidesres.append(0)\n",
    "    for i in range(n):\n",
    "        if(round(U[i].X) <= nbH+int(nbV/2)):\n",
    "            slidesres[round(U[i].X)-1] = slides[i]\n",
    "\n",
    "    return Slideshow(slidesres)"
   ]
  },
  {
   "cell_type": "markdown",
   "metadata": {},
   "source": [
    "## Heuristiques d'arrondi"
   ]
  },
  {
   "cell_type": "code",
   "execution_count": 385,
   "metadata": {
    "collapsed": true
   },
   "outputs": [],
   "source": [
    "def PL_arrondi(instance):\n",
    "    C=[]\n",
    "    photos = instance.photosH + instance.photosV\n",
    "    presentation = presentationHV(instance)\n",
    "    vignettes = presentation.vignettes\n",
    "    n = len(vignettes)\n",
    "    for i in range(n):\n",
    "        c=[]\n",
    "        for j in range(n):\n",
    "            c.append(score_t(vignettes[i],vignettes[j]))\n",
    "        C.append(c)\n",
    "    m = Model(\"Photo slideshow\")\n",
    "    # Contraintes de base\n",
    "    X = []\n",
    "    for i in range(n):\n",
    "        x = []\n",
    "        for j in range(n):\n",
    "            x.append(m.addVar(vtype=GRB.BINARY, lb=0))\n",
    "        X.append(x)\n",
    "\n",
    "    for i in range(n):\n",
    "        # au plus une transition (i,j)\n",
    "        m.addConstr(quicksum(X[i][j] for j in range(n)) <= 1)\n",
    "        # au plus une transition (j,i)\n",
    "        m.addConstr(quicksum(X[j][i] for j in range(n)) <= 1)\n",
    "\n",
    "    for i in range(n):\n",
    "        for j in range(n):\n",
    "            # pas de transitions (i,j) et (j,i) simultanément\n",
    "            m.addConstr(X[i][j] + X[j][i] <= 1)\n",
    "\n",
    "    m.addConstr(quicksum(quicksum(X[i][j] for j in range(n)) for i in range(n)) == n - 1)\n",
    "\n",
    "    # Elimination des sous-tours (contraintes MTZ)\n",
    "    U = []\n",
    "    for i in range(n):\n",
    "        U.append(m.addVar(vtype=GRB.INTEGER))\n",
    "    m.addConstr(U[0] == 1)\n",
    "    for i in range(1, n):\n",
    "        m.addConstr(2 <= U[i])\n",
    "        m.addConstr(U[i] <= n)\n",
    "\n",
    "    for i in range(0, n):\n",
    "        for j in [x for x in range(0, n) if x != i]:\n",
    "            m.addConstr(U[i] - U[j] + 1 <= n * (1 - X[i][j]))\n",
    "\n",
    "    # Fonction objectif\n",
    "    m.setObjective(quicksum(quicksum(X[i][j] * C[i][j] for j in range(n)) for i in range(n)), GRB.MAXIMIZE)\n",
    "\n",
    "    m.optimize()\n",
    "\n",
    "    vignettes = []\n",
    "    for i in range(n):\n",
    "        vignettes.append(0)\n",
    "    for i in range(n):\n",
    "        vignettes[round(U[i].X)-1] = presentation.vignettes[i]\n",
    "    return Presentation(vignettes)"
   ]
  },
  {
   "cell_type": "code",
   "execution_count": 386,
   "metadata": {},
   "outputs": [
    {
     "name": "stdout",
     "output_type": "stream",
     "text": [
      "Optimize a model with 1282400 rows, 640800 columns and 5118399 nonzeros\n",
      "Variable types: 800 continuous, 640000 integer (640000 binary)\n",
      "Coefficient statistics:\n",
      "  Matrix range     [1e+00, 8e+02]\n",
      "  Objective range  [3e+00, 3e+00]\n",
      "  Bounds range     [1e+00, 1e+00]\n",
      "  RHS range        [1e+00, 8e+02]\n",
      "Presolve removed 324397 rows and 1600 columns (presolve time = 5s) ...\n",
      "Presolve removed 324397 rows and 1600 columns (presolve time = 10s) ...\n",
      "Presolve removed 324397 rows and 1600 columns (presolve time = 15s) ...\n",
      "Presolve removed 324397 rows and 1600 columns\n",
      "Presolve time: 17.34s\n",
      "Presolved: 958003 rows, 639200 columns, 4465611 nonzeros\n",
      "Variable types: 799 continuous, 638401 integer (638401 binary)\n",
      "\n",
      "Deterministic concurrent LP optimizer: dual simplex and barrier\n",
      "Showing barrier log only...\n",
      "\n",
      "Root barrier log...\n",
      "\n",
      "Ordering time: 0.00s\n",
      "\n",
      "Barrier statistics:\n",
      " Dense cols : 799\n",
      " AA' NZ     : 6.060e+06\n",
      " Factor NZ  : 1.148e+07 (roughly 700 MBytes of memory)\n",
      " Factor Ops : 4.678e+09 (less than 1 second per iteration)\n",
      " Threads    : 1\n",
      "\n",
      "                  Objective                Residual\n",
      "Iter       Primal          Dual         Primal    Dual     Compl     Time\n",
      "   0   8.59322091e+02  1.99277731e+03  5.00e+06 2.60e-02  1.31e+01    38s\n",
      "   1   7.48966011e+02  1.52711968e+06  4.39e+06 7.67e-13  1.09e+01    39s\n",
      "   2   2.44120993e+01  1.19548877e+06  3.00e+03 5.29e-13  5.41e-01    43s\n",
      "   3   1.56655631e+01  7.72261010e+05  3.97e+02 3.38e-13  3.46e-01    45s\n",
      "   4   1.92795796e+01  8.57405492e+03  3.21e+00 4.05e-15  3.83e-03    47s\n",
      "   5   5.69987981e+01  2.54065567e+02  3.45e-01 6.66e-16  8.82e-05    49s\n",
      "   6   4.99810400e+01  5.73175137e+01  1.85e-02 4.44e-16  3.28e-06    52s\n",
      "   7   5.69907903e+01  5.70014002e+01  5.76e-06 2.78e-17  4.74e-09    54s\n",
      "   8   5.69999908e+01  5.70000014e+01  5.77e-10 1.90e-16  4.74e-12    56s\n",
      "   9   5.70000000e+01  5.70000000e+01  8.87e-12 1.79e-16  1.65e-16    57s\n",
      "\n",
      "Barrier solved model in 9 iterations and 57.03 seconds\n",
      "Optimal objective 5.70000000e+01\n",
      "\n",
      "\n",
      "Root crossover log...\n",
      "\n",
      "     800 DPushes remaining with DInf 0.0000000e+00                59s\n",
      "       0 DPushes remaining with DInf 0.0000000e+00                60s\n",
      "\n",
      "  638418 PPushes remaining with PInf 0.0000000e+00                60s\n",
      "  637636 PPushes remaining with PInf 0.0000000e+00                60s\n",
      "  573454 PPushes remaining with PInf 0.0000000e+00                65s\n",
      "  464247 PPushes remaining with PInf 0.0000000e+00                70s\n",
      "  322223 PPushes remaining with PInf 0.0000000e+00                75s\n",
      "  127076 PPushes remaining with PInf 0.0000000e+00                80s\n",
      "       0 PPushes remaining with PInf 0.0000000e+00                83s\n",
      "\n",
      "  Push phase complete: Pinf 0.0000000e+00, Dinf 0.0000000e+00     83s\n",
      "\n",
      "\n",
      "Root simplex log...\n",
      "\n",
      "Iteration    Objective       Primal Inf.    Dual Inf.      Time\n",
      "  639184    5.7000000e+01   0.000000e+00   0.000000e+00     83s\n",
      "Concurrent spin time: 19.65s (can be avoided by choosing Method=3)\n",
      "\n",
      "Solved with barrier\n",
      "\n",
      "Root relaxation: objective 5.700000e+01, 639184 iterations, 53.82 seconds\n",
      "\n",
      "    Nodes    |    Current Node    |     Objective Bounds      |     Work\n",
      " Expl Unexpl |  Obj  Depth IntInf | Incumbent    BestBd   Gap | It/Node Time\n",
      "\n",
      "     0     0   57.00000    0 1841          -   57.00000      -     -  213s\n",
      "H    0     0                      57.0000000   57.00000  0.00%     -  230s\n",
      "\n",
      "Explored 1 nodes (652077 simplex iterations) in 230.37 seconds\n",
      "Thread count was 4 (of 4 available processors)\n",
      "\n",
      "Solution count 1: 57 \n",
      "\n",
      "Optimal solution found (tolerance 1.00e-04)\n",
      "Best objective 5.700000000000e+01, best bound 5.700000000000e+01, gap 0.0000%\n"
     ]
    }
   ],
   "source": [
    "instance = lire(\"qualification_round_2019.in/b_lovely_landscapes.txt\",1)\n",
    "presentation = PL_arrondi(instance)"
   ]
  },
  {
   "cell_type": "code",
   "execution_count": 387,
   "metadata": {},
   "outputs": [
    {
     "data": {
      "text/plain": [
       "57"
      ]
     },
     "execution_count": 387,
     "metadata": {},
     "output_type": "execute_result"
    }
   ],
   "source": [
    "#ecrire(presentation,\"sol/PLNE/b_lovely_landscapes\")\n",
    "score_p(presentation)"
   ]
  },
  {
   "cell_type": "code",
   "execution_count": 392,
   "metadata": {
    "collapsed": true
   },
   "outputs": [],
   "source": [
    "def tri_transitions(instance):\n",
    "    photos = instance.photosH + instance.photosV\n",
    "    presentation = presentationHV(instance)\n",
    "    vignettes = presentation.vignettes\n",
    "    n = len(vignettes)\n",
    "    transitions = []\n",
    "    for i in range(n):\n",
    "        for j in range(i+1,n):\n",
    "            transitions.append(Transition(vignettes[i], vignettes[j],score_t(vignettes[i],vignettes[j])))\n",
    "    transitions.sort(key=lambda x: x.score, reverse=True)\n",
    "\n",
    "    vignettes = []\n",
    "    \n",
    "    for t in transitions:\n",
    "        #Si aucune des deux vignettes n'est dans la présentation,\n",
    "        # on les y ajoute tous les deux à la fin\n",
    "        if not t.vignette1 in vignettes and not t.vignette2 in vignettes:\n",
    "            vignettes.append(t.vignette1)\n",
    "            vignettes.append(t.vignette2)\n",
    "        # Si une des deux vignettes est déjà dans la présentation, on\n",
    "        # ajoute l'autre avant ou après si cela améliore le score\n",
    "        # Le cas échéant, cela signifie que les vignettes ont été\n",
    "        # ajouté ensemble auparavant\n",
    "        if t.vignette1 in vignettes and not t.vignette2 in vignettes:\n",
    "            pos = vignettes.index(t.vignette1)\n",
    "            if pos == 0:\n",
    "                vignettes.insert(0,t.vignette2)\n",
    "            elif pos == len(vignettes)-1:\n",
    "                vignettes.append(t.vignette2)\n",
    "            else:\n",
    "                if score_t(vignettes[pos],vignettes[pos+1])<t.score:\n",
    "                    vignettes.insert(pos+1,t.vignette2)\n",
    "                elif score_t(vignettes[pos],vignettes[pos-1])<t.score:\n",
    "                    vignettes.insert(pos,t.vignette2)\n",
    "        if not t.vignette1 in vignettes and t.vignette2 in vignettes:\n",
    "            pos = vignettes.index(t.vignette2)\n",
    "            if pos == 0:\n",
    "                vignettes.insert(0,t.vignette1)\n",
    "            elif pos == len(vignettes)-1:\n",
    "                vignettes.append(t.vignette1)\n",
    "            else:\n",
    "                if score_t(vignettes[pos],vignettes[pos+1])<t.score:\n",
    "                    vignettes.insert(pos+1,t.vignette1)\n",
    "                elif score_t(vignettes[pos],vignettes[pos-1])<t.score:\n",
    "                    vignettes.insert(pos,t.vignette1)\n",
    "    return Presentation(vignettes)"
   ]
  },
  {
   "cell_type": "code",
   "execution_count": 407,
   "metadata": {},
   "outputs": [
    {
     "data": {
      "text/plain": [
       "255"
      ]
     },
     "execution_count": 407,
     "metadata": {},
     "output_type": "execute_result"
    }
   ],
   "source": [
    "instance = lire(\"qualification_round_2019.in/b_lovely_landscapes.txt\",2)\n",
    "presentation = tri_transitions(instance)\n",
    "ecrire(presentation,\"sol/Best/b_lovely_landscapes\")\n",
    "score_p(presentation)"
   ]
  },
  {
   "cell_type": "code",
   "execution_count": 398,
   "metadata": {},
   "outputs": [
    {
     "data": {
      "text/plain": [
       "1375"
      ]
     },
     "execution_count": 398,
     "metadata": {},
     "output_type": "execute_result"
    }
   ],
   "source": [
    "instance = lire(\"qualification_round_2019.in/c_memorable_moments.txt\",100)\n",
    "presentation = tri_transitions(instance)\n",
    "ecrire(presentation,\"sol/Best/c_memorable_moments\")\n",
    "score_p(presentation)"
   ]
  },
  {
   "cell_type": "code",
   "execution_count": 406,
   "metadata": {},
   "outputs": [
    {
     "data": {
      "text/plain": [
       "18956"
      ]
     },
     "execution_count": 406,
     "metadata": {},
     "output_type": "execute_result"
    }
   ],
   "source": [
    "instance = lire(\"qualification_round_2019.in/d_pet_pictures.txt\",5)\n",
    "presentation = tri_transitions(instance)\n",
    "ecrire(presentation,\"sol/Best/d_pet_pictures\")\n",
    "score_p(presentation)"
   ]
  },
  {
   "cell_type": "code",
   "execution_count": 404,
   "metadata": {},
   "outputs": [
    {
     "data": {
      "text/plain": [
       "15549"
      ]
     },
     "execution_count": 404,
     "metadata": {},
     "output_type": "execute_result"
    }
   ],
   "source": [
    "instance = lire(\"qualification_round_2019.in/e_shiny_selfies.txt\",5)\n",
    "presentation = tri_transitions(instance)\n",
    "ecrire(presentation,\"sol/MethodeGloutonne1/e_shiny_selfies\")\n",
    "score_p(presentation)"
   ]
  }
 ],
 "metadata": {
  "kernelspec": {
   "display_name": "Python 3",
   "language": "python",
   "name": "python3"
  },
  "language_info": {
   "codemirror_mode": {
    "name": "ipython",
    "version": 3
   },
   "file_extension": ".py",
   "mimetype": "text/x-python",
   "name": "python",
   "nbconvert_exporter": "python",
   "pygments_lexer": "ipython3",
   "version": "3.5.2"
  }
 },
 "nbformat": 4,
 "nbformat_minor": 2
}
