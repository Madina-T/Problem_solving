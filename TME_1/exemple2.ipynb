{
 "cells": [
  {
   "cell_type": "code",
   "execution_count": null,
   "metadata": {
    "collapsed": true
   },
   "outputs": [],
   "source": [
    "from constraint import *\n",
    "\n",
    "# Dimension du probl`eme\n",
    "n = 3\n",
    "# Cr ́eation du probl`eme\n",
    "p = Problem()\n",
    "# Creation d’une variable python representant les nombres `a placer dans la grille\n",
    "x = range(1, n**2 + 1)\n",
    "# Cr ́eation d’une variable x dont le domaine est {1, ..., n**2 + 1}\n",
    "p.addVariables(x, x)\n",
    "# Ajout de la contrainte AllDiff\n",
    "p.addConstraint(AllDifferentConstraint())\n",
    "# Variable contenant la somme de chaque ligne/colonne/diagonale\n",
    "s = n*n * (n*n + 1) / 6\n",
    "# Ajout des contraintes du carr ́e magique\n",
    "for k in range(n):\n",
    "    # ligne k\n",
    "    p.addConstraint(ExactSumConstraint(s), [x[k*n+i] for i in range(n)])\n",
    "    # colonne k\n",
    "    p.addConstraint(ExactSumConstraint(s), [x[k+n*i] for i in range(n)])\n",
    "    # premi`ere diagonale\n",
    "    p.addConstraint(ExactSumConstraint(s), [x[n*i+i] for i in range(n)])\n",
    "    # deuxi`eme diagonale\n",
    "    p.addConstraint(ExactSumConstraint(s), [x[(n-1)*i] for i in range(1, n+1)])\n",
    "\n",
    "s = p.getSolution()\n",
    "print(s)"
   ]
  }
 ],
 "metadata": {
  "kernelspec": {
   "display_name": "Python 3",
   "language": "python",
   "name": "python3"
  },
  "language_info": {
   "codemirror_mode": {
    "name": "ipython",
    "version": 3
   },
   "file_extension": ".py",
   "mimetype": "text/x-python",
   "name": "python",
   "nbconvert_exporter": "python",
   "pygments_lexer": "ipython3",
   "version": "3.6.3"
  }
 },
 "nbformat": 4,
 "nbformat_minor": 2
}
