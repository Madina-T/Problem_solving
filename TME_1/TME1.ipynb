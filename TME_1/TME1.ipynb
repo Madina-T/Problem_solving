{
 "cells": [
  {
   "cell_type": "markdown",
   "metadata": {},
   "source": [
    "# TME 1 : Resolution de CSPs"
   ]
  },
  {
   "cell_type": "markdown",
   "metadata": {},
   "source": [
    "Binome : Valentin COLLIARD et Madina TRAORE"
   ]
  },
  {
   "cell_type": "code",
   "execution_count": 1,
   "metadata": {
    "collapsed": true
   },
   "outputs": [],
   "source": [
    "from constraint import *"
   ]
  },
  {
   "cell_type": "markdown",
   "metadata": {},
   "source": [
    "### Exemple 1 : Problème des 8 tours"
   ]
  },
  {
   "cell_type": "code",
   "execution_count": 2,
   "metadata": {},
   "outputs": [
    {
     "name": "stdout",
     "output_type": "stream",
     "text": [
      "{0: 7, 1: 6, 2: 5, 3: 4, 4: 3, 5: 2, 6: 1, 7: 0}\n"
     ]
    }
   ],
   "source": [
    "# Dimension du problème\n",
    "n = 8\n",
    "# Création du problème\n",
    "pb = Problem()\n",
    "# Création d’une variable python de dimension n\n",
    "cols = range(n)\n",
    "# Création d’une variable cols dont le domaine est {1, ..., n}\n",
    "pb.addVariables(cols, range(n))\n",
    "# Ajout de la contrainte AllDiff\n",
    "pb.addConstraint(AllDifferentConstraint())\n",
    "# Récuperation de l’ensemble des solutions possibles\n",
    "s = pb.getSolution()\n",
    "print(s)"
   ]
  },
  {
   "cell_type": "markdown",
   "metadata": {},
   "source": [
    "### Exemple 2 : Problème du carré magique de dimension 3"
   ]
  },
  {
   "cell_type": "code",
   "execution_count": 3,
   "metadata": {},
   "outputs": [
    {
     "name": "stdout",
     "output_type": "stream",
     "text": [
      "{5: 5, 1: 6, 9: 4, 3: 2, 7: 8, 4: 1, 8: 3, 2: 7, 6: 9}\n"
     ]
    }
   ],
   "source": [
    "# Dimension du problème\n",
    "n = 3\n",
    "# Creation du problème\n",
    "p = Problem()\n",
    "# Création d’une variable python représentant les nombres a placer dans la grille\n",
    "x = range(1, n**2 + 1)\n",
    "# Création d’une variable x dont le domaine est {1, ..., n**2 + 1}\n",
    "p.addVariables(x, x)\n",
    "# Ajout de la contrainte AllDiff\n",
    "p.addConstraint(AllDifferentConstraint())\n",
    "# Variable contenant la somme de chaque ligne/colonne/diagonale\n",
    "s = n*n * (n*n + 1) / 6\n",
    "# Ajout des contraintes du carré magique\n",
    "for k in range(n):\n",
    "    # ligne k\n",
    "    p.addConstraint(ExactSumConstraint(s), [x[k*n+i] for i in range(n)])\n",
    "    # colonne k\n",
    "    p.addConstraint(ExactSumConstraint(s), [x[k+n*i] for i in range(n)])\n",
    "    # premiere diagonale\n",
    "    p.addConstraint(ExactSumConstraint(s), [x[n*i+i] for i in range(n)])\n",
    "    # deuxieme diagonale\n",
    "    p.addConstraint(ExactSumConstraint(s), [x[(n-1)*i] for i in range(1, n+1)])\n",
    "\n",
    "s = p.getSolution()\n",
    "print(s)"
   ]
  },
  {
   "cell_type": "markdown",
   "metadata": {},
   "source": [
    "### Exercice : Coloration de carte et CSP valués"
   ]
  },
  {
   "cell_type": "markdown",
   "metadata": {},
   "source": [
    "#### Question 1"
   ]
  },
  {
   "cell_type": "code",
   "execution_count": 4,
   "metadata": {},
   "outputs": [
    {
     "name": "stdout",
     "output_type": "stream",
     "text": [
      "Solution du problème P1 : None\n"
     ]
    }
   ],
   "source": [
    "# Dimension du problème\n",
    "n = 4\n",
    "# Création du problème\n",
    "P1 = Problem()\n",
    "# Creation d’une variable python de dimension n\n",
    "z = range(1,n+1)\n",
    "# Création d’une variable z dont le domaine est {\"rouge\",\"vert\",\"bleu\"}\n",
    "P1.addVariables(z, [\"rouge\",\"vert\",\"bleu\"])\n",
    "# Ajout des contraintes de couleurs\n",
    "P1.addConstraint(InSetConstraint([\"rouge\",\"bleu\"]),[1])\n",
    "P1.addConstraint(InSetConstraint([\"bleu\",\"vert\"]),[2,3])\n",
    "P1.addConstraint(InSetConstraint([\"rouge\"]),[4])\n",
    "\n",
    "P1.addConstraint(lambda x, y : x != y, [1,2])\n",
    "P1.addConstraint(lambda x, y : x != y, [1,3])\n",
    "P1.addConstraint(lambda x, y : x != y, [1,4])\n",
    "P1.addConstraint(lambda x, y : x != y, [2,3])\n",
    "P1.addConstraint(lambda x, y : x != y, [3,4])\n",
    "\n",
    "def solve_p1():\n",
    "    return P1.getSolution()\n",
    "\n",
    "print(\"Solution du problème P1 :\", solve_p1())"
   ]
  },
  {
   "cell_type": "markdown",
   "metadata": {},
   "source": [
    "Cette fonction retourne None. On en déduit que le problème P1 est trop contraignant, il n'admet aucune solution."
   ]
  },
  {
   "cell_type": "markdown",
   "metadata": {},
   "source": [
    "#### Question 2"
   ]
  },
  {
   "cell_type": "code",
   "execution_count": 5,
   "metadata": {},
   "outputs": [
    {
     "name": "stdout",
     "output_type": "stream",
     "text": [
      "Solution du problème P2 : {1: 'rouge', 3: 'bleu', 2: 'vert', 4: 'vert'}\n"
     ]
    }
   ],
   "source": [
    "# Dimension du problème\n",
    "n = 4\n",
    "# Création du problème\n",
    "P2 = Problem()\n",
    "# Création d’une variable python de dimension n\n",
    "z = range(1,n+1)\n",
    "# Création d’une variable z dont le domaine est {\"rouge\",\"vert\",\"bleu\"}\n",
    "P2.addVariables(z, [\"rouge\",\"vert\",\"bleu\"])\n",
    "# Ajout des contraintes de couleurs\n",
    "P2.addConstraint(InSetConstraint([\"rouge\",\"vert\"]),[1])\n",
    "P2.addConstraint(InSetConstraint([\"bleu\",\"vert\"]),[2,3])\n",
    "P2.addConstraint(InSetConstraint([\"vert\"]),[4])\n",
    "\n",
    "P2.addConstraint(lambda x, y : x != y, [1,2])\n",
    "P2.addConstraint(lambda x, y : x != y, [1,3])\n",
    "P2.addConstraint(lambda x, y : x != y, [1,4])\n",
    "P2.addConstraint(lambda x, y : x != y, [2,3])\n",
    "P2.addConstraint(lambda x, y : x != y, [3,4])\n",
    "\n",
    "def solve_p2():\n",
    "    return P2.getSolution()\n",
    "\n",
    "print(\"Solution du problème P2 :\",solve_p2())"
   ]
  },
  {
   "cell_type": "markdown",
   "metadata": {},
   "source": [
    "Cette fonction retourne {1: 'rouge', 2: 'vert', 3: 'bleu', 4: 'vert'}. On en déduit que le problème P2 est une réduction du problème initial permettant de trouver une solution a celui-ci."
   ]
  },
  {
   "cell_type": "markdown",
   "metadata": {},
   "source": [
    "#### Question 3"
   ]
  },
  {
   "cell_type": "code",
   "execution_count": 23,
   "metadata": {},
   "outputs": [
    {
     "name": "stdout",
     "output_type": "stream",
     "text": [
      "\n",
      "Utilités des noeuds ouverts : [0.3, 0.8, 1]\n",
      "Utilité du prochain noeud à explorer : 1\n",
      "\n",
      "Utilités des noeuds ouverts : [0.3, 0.6, 0.8, 1]\n",
      "Utilité du prochain noeud à explorer : 1\n",
      "\n",
      "Utilités des noeuds ouverts : [0.3, 0.6, 0.7, 0.8]\n",
      "Utilité du prochain noeud à explorer : 0.8\n",
      "\n",
      "Utilités des noeuds ouverts : [0.2, 0.3, 0.6, 0.6, 0.7]\n",
      "Utilité du prochain noeud à explorer : 0.7\n",
      "\n",
      "Utilités des noeuds ouverts : [0.2, 0.3, 0.6, 0.6, 0.7]\n",
      "Utilité du prochain noeud à explorer : 0.9\n",
      "Une solution optimale a été trouvée.\n",
      "\n",
      "Solution du problème P : {1: 'bleu', 3: 'vert', 2: 'rouge', 4: 'rouge'}\n",
      "\n",
      "Utilité de la solution trouvée : 0.7\n"
     ]
    }
   ],
   "source": [
    "from copy import *\n",
    "\n",
    "class Node:\n",
    "    \n",
    "    def __init__(self,pb,var,u):\n",
    "        self.pb = pb\n",
    "        self.var = var\n",
    "        self.u = u\n",
    "        self.T = u\n",
    "        self.fils = []\n",
    "        \n",
    "# Dimension du problème\n",
    "n = 4\n",
    "# Création du problème\n",
    "P = Problem()\n",
    "# Création d’une variable python de dimension n\n",
    "z = range(1,n+1)\n",
    "# Creation d’une variable z dont le domaine est {\"rouge\",\"vert\",\"bleu\"}\n",
    "P.addVariables(z, [\"rouge\",\"vert\",\"bleu\"])\n",
    "\n",
    "P.addConstraint(lambda x, y : x != y, [1,2])\n",
    "P.addConstraint(lambda x, y : x != y, [1,3])\n",
    "P.addConstraint(lambda x, y : x != y, [1,4])\n",
    "P.addConstraint(lambda x, y : x != y, [2,3])\n",
    "P.addConstraint(lambda x, y : x != y, [3,4])\n",
    "\n",
    "U = dict()\n",
    "U[1] = {\"bleu\" : 1, \"vert\" : 0.3, \"rouge\" : 0.8}\n",
    "U[2] = {\"bleu\" : 0.2, \"vert\" : 0.6, \"rouge\" : 1}\n",
    "U[3] = {\"bleu\" : 1, \"vert\" : 0.7, \"rouge\" : 0.4}\n",
    "U[4] = {\"bleu\" : 0.5, \"vert\" : 1, \"rouge\" : 0.9}\n",
    "\n",
    "def branch_and_bound(noeud,noeuds_ouverts,T_noeuds_ouverts):\n",
    "    solutions = noeud.pb.getSolutions() #permet de récupérer les colorations respectant les contraintes\n",
    "    \n",
    "    # Ajout dans col_poss les couleurs possibles pour la zone que l'on est en train de traiter\n",
    "    col_poss = []\n",
    "    for sol in solutions:\n",
    "        for key,val in sol.items():\n",
    "            if key == noeud.var:\n",
    "                col_poss.append(val)\n",
    "    \n",
    "    # Construction de l'arbre des colorations possibles\n",
    "    for col, ut in U[noeud.var].items():\n",
    "        if col in col_poss:\n",
    "            pb = deepcopy(noeud.pb)\n",
    "            pb.addConstraint(InSetConstraint(col),[noeud.var])\n",
    "            f = Node(pb,noeud.var+1,U[noeud.var][col])\n",
    "            if noeud.T < f.T:\n",
    "                f.T = noeud.T\n",
    "            noeud.fils.append(f)\n",
    "    \n",
    "    T_fils = [f.T for f in noeud.fils]\n",
    "    T_noeuds_ouverts += T_fils\n",
    "    T_noeuds_ouverts = sorted(T_noeuds_ouverts) # liste des utilités données par la fonction T de tous les noeuds ouverts \n",
    "    \n",
    "    for T in T_noeuds_ouverts:\n",
    "        for f in noeud.fils:\n",
    "            if T == f.T:\n",
    "                noeuds_ouverts.append(f) # liste des noeuds ouverts\n",
    "    \n",
    "    print(\"\\nUtilités des noeuds ouverts :\",T_noeuds_ouverts)\n",
    "                \n",
    "    T_max_cour = T_noeuds_ouverts.pop() #utilité maximale des noeuds encore ouverts\n",
    "    \n",
    "    next_noeud = None\n",
    "    for i in range(len(noeuds_ouverts)):\n",
    "        if noeuds_ouverts[i].T == T_max_cour:\n",
    "            next_noeud = noeuds_ouverts[i]\n",
    "            del noeuds_ouverts[i]\n",
    "            break\n",
    "            \n",
    "    if next_noeud: # s'il y a encore un noeud à explorer\n",
    "        print(\"Utilité du prochain noeud à explorer :\",next_noeud.u)\n",
    "        if next_noeud.var < 5: # si on n'est pas sur une feuille de l'arbre\n",
    "            return branch_and_bound(next_noeud,noeuds_ouverts,T_noeuds_ouverts)\n",
    "        else:\n",
    "            print(\"Une solution optimale a été trouvée.\")\n",
    "            u_S = next_noeud.T\n",
    "    else:\n",
    "        print(\"Pas de meilleur noeud à explorer.\")\n",
    "    return noeud.pb.getSolution(),u_S\n",
    "\n",
    "S,u_S = branch_and_bound(Node(P,1,1),[],[])\n",
    "\n",
    "print(\"\\nSolution du problème P :\",S)\n",
    "\n",
    "print(\"\\nUtilité de la solution trouvée :\",u_S)   "
   ]
  },
  {
   "cell_type": "markdown",
   "metadata": {},
   "source": [
    "La solution retournée par l'algorithme est la même que celle trouvée avec le problème réduit P2 : {1: 'bleu', 3: 'vert', 2: 'rouge', 4: 'rouge'}."
   ]
  },
  {
   "cell_type": "markdown",
   "metadata": {},
   "source": [
    "#### Question 4"
   ]
  },
  {
   "cell_type": "code",
   "execution_count": 25,
   "metadata": {},
   "outputs": [
    {
     "name": "stdout",
     "output_type": "stream",
     "text": [
      "Utilités des noeuds ouverts : [0.3, 0.8, 1]\n",
      "Utilité du prochain noeud à explorer : 1\n",
      "Utilités des noeuds ouverts : [0.3, 0.6, 0.8, 1]\n",
      "Utilité du prochain noeud à explorer : 1\n",
      "Utilités des noeuds ouverts : [0.3, 0.6, 0.7, 0.8]\n",
      "Utilité du prochain noeud à explorer : 0.8\n",
      "Utilités des noeuds ouverts : [0.16000000000000003, 0.3, 0.48, 0.6, 0.7]\n",
      "Utilité du prochain noeud à explorer : 0.7\n",
      "Utilités des noeuds ouverts : [0.16000000000000003, 0.3, 0.48, 0.6, 0.63]\n",
      "Utilité du prochain noeud à explorer : 0.9\n",
      "Une solution optimale a été trouvée.\n",
      "\n",
      "Solution du problème P : {1: 'bleu', 3: 'vert', 2: 'rouge', 4: 'rouge'}\n",
      "\n",
      "Utilité de chaque zone de la solution trouvée : {1: 1, 3: 0.7, 2: 1, 4: 0.9}\n",
      "\n",
      "Utilité de la solution trouvée : 0.63\n"
     ]
    }
   ],
   "source": [
    "from copy import *\n",
    "\n",
    "class Node:\n",
    "    \n",
    "    def __init__(self,pb,var,u):\n",
    "        self.pb = pb\n",
    "        self.var = var\n",
    "        self.u = u\n",
    "        self.T = u\n",
    "        self.fils = []\n",
    "        \n",
    "\n",
    "# Dimension du probleme\n",
    "n = 4\n",
    "# Creation du probleme (colorier la figure en attribuant une couleur (rouge, \n",
    "# vert ou bleu a chaque zone) de sorte que deux zones voisines soient de\n",
    "# couleur differentes)\n",
    "P = Problem()\n",
    "# Creation d’une variable python de dimension n\n",
    "z = range(1,n+1)\n",
    "# Creation d’une variable z dont le domaine est {\"rouge\",\"vert\",\"bleu\"}\n",
    "P.addVariables(z, [\"rouge\",\"vert\",\"bleu\"])\n",
    "\n",
    "P.addConstraint(lambda x, y : x != y, [1,2])\n",
    "P.addConstraint(lambda x, y : x != y, [1,3])\n",
    "P.addConstraint(lambda x, y : x != y, [1,4])\n",
    "P.addConstraint(lambda x, y : x != y, [2,3])\n",
    "P.addConstraint(lambda x, y : x != y, [3,4])\n",
    "\n",
    "U = dict()\n",
    "U[1] = {\"bleu\" : 1, \"vert\" : 0.3, \"rouge\" : 0.8}\n",
    "U[2] = {\"bleu\" : 0.2, \"vert\" : 0.6, \"rouge\" : 1}\n",
    "U[3] = {\"bleu\" : 1, \"vert\" : 0.7, \"rouge\" : 0.4}\n",
    "U[4] = {\"bleu\" : 0.5, \"vert\" : 1, \"rouge\" : 0.9}\n",
    "\n",
    "s = dict()\n",
    "u = dict()\n",
    "liste_u = [] #liste triée des utilités rencontrées\n",
    "\n",
    "def branch_and_bound(noeud,noeuds_ouverts,T_noeuds_ouverts):\n",
    "    solutions = noeud.pb.getSolutions()\n",
    "    \n",
    "    # Ajout dans col_poss les couleurs possibles pour la zone que l'on est en train de traiter\n",
    "    col_poss = []\n",
    "    for sol in solutions:\n",
    "        for key,val in sol.items():\n",
    "            if key == noeud.var:\n",
    "                col_poss.append(val)\n",
    "    \n",
    "    # Construction de l'arbre des colorations possibles\n",
    "    for col, ut in U[noeud.var].items():\n",
    "        if col in col_poss:\n",
    "            pb = deepcopy(noeud.pb)\n",
    "            pb.addConstraint(InSetConstraint(col),[noeud.var])\n",
    "            f = Node(pb,noeud.var+1,U[noeud.var][col])\n",
    "            f.T *= noeud.T\n",
    "            noeud.fils.append(f)\n",
    "    \n",
    "    T_fils = [f.T for f in noeud.fils]\n",
    "    T_noeuds_ouverts += T_fils\n",
    "    T_noeuds_ouverts = sorted(T_noeuds_ouverts) # liste des utilités données par la fonction T de tous les noeuds ouverts\n",
    "    \n",
    "    for T in T_noeuds_ouverts:\n",
    "        for f in noeud.fils:\n",
    "            if T == f.T:\n",
    "                noeuds_ouverts.append(f) # liste des noeuds ouverts\n",
    "                \n",
    "    print(\"Utilités des noeuds ouverts :\",T_noeuds_ouverts)\n",
    "            \n",
    "    T_max_cour = T_noeuds_ouverts.pop()  #utilité maximale des noeuds encore ouverts\n",
    "    \n",
    "    \n",
    "    for i in range(len(noeuds_ouverts)):\n",
    "        if noeuds_ouverts[i].T == T_max_cour:\n",
    "            next_noeud = noeuds_ouverts[i]\n",
    "            del noeuds_ouverts[i]\n",
    "            break\n",
    "            \n",
    "    if next_noeud:\n",
    "        print(\"Utilité du prochain noeud à explorer :\",next_noeud.u)\n",
    "        if next_noeud.var < 5:\n",
    "            return branch_and_bound(next_noeud,noeuds_ouverts,T_noeuds_ouverts)\n",
    "        else:\n",
    "            print(\"Une solution optimale a été trouvée.\")\n",
    "            u_S = next_noeud.T\n",
    "    else:\n",
    "        print(\"Pas de meilleur noeud à explorer.\")\n",
    "\n",
    "    return noeud.pb.getSolution(),u_S\n",
    "\n",
    "S,u_S = branch_and_bound(Node(P,1,1),[],[])\n",
    "\n",
    "print(\"\\nSolution du problème P :\",S)\n",
    "\n",
    "u = dict()\n",
    "for key,value in S.items():\n",
    "    u[key] = U[key][value]\n",
    "print(\"\\nUtilité de chaque zone de la solution trouvée :\",u)\n",
    "\n",
    "print(\"\\nUtilité de la solution trouvée :\",u_S)    "
   ]
  },
  {
   "cell_type": "markdown",
   "metadata": {},
   "source": [
    "Utiliser T(x, y) = min{x, y} permet seulement de maximiser l'utilité minimale de la coloration : de cette façon, on fait seulement en sorte que la zone la \"moins satisfaite\" par sa coloration soit la moins insatisfaite possible, on ne prend réellement en compte qu'une seule zone. En utilisant T(x, y) = x x y au lieu de T(x, y) = min{x, y}, on cherche à avoir une \"satisfaction globale\" optimale.\n",
    "\n",
    "Exemple :\n",
    "\n",
    "Soient les colorations C1 = {1: 'vert', 2: 'bleu', 3: 'rouge', 4: 'bleu'} et C2 = {1: 'rouge', 2: 'bleu', 3: 'vert', 4: 'bleu'}. Les utilités correspondantes sont U1 = {1: 0.3, 2: 0.2, 3: 0.4, 4: 0.5} et U2 = {1: 0.8, 2: 0.2, 3: 0.7, 4: 0.5}.\n",
    "\n",
    "Si l'on utilise T(x, y) = min{x, y}, on a f_T(U1) = f_T(U2) = 0.2. La fonction T ne permet donc pas de distinguer ces 2 solutions bien que la coloration C2 paraisse plus avatageuse pour l'esemble des zones que la coloration C1.\n",
    "\n",
    "Si l'on utilise T(x, y) = x x y, on a f_T(U1) = 0.3x0.2x0.4x0.5 = 0.012 et f_T(U2) = 0.8x0.2x0.7x0.5 = 0.056.\n",
    "f_T(U2) > f_T(U1) donc cette fonction T traduit bien le fait que la coloration C2 est plus avatageuse pour l'ensemble des zones que la coloration C1."
   ]
  }
 ],
 "metadata": {
  "kernelspec": {
   "display_name": "Python 3",
   "language": "python",
   "name": "python3"
  },
  "language_info": {
   "codemirror_mode": {
    "name": "ipython",
    "version": 3
   },
   "file_extension": ".py",
   "mimetype": "text/x-python",
   "name": "python",
   "nbconvert_exporter": "python",
   "pygments_lexer": "ipython3",
   "version": "3.6.7"
  }
 },
 "nbformat": 4,
 "nbformat_minor": 2
}
